{
 "cells": [
  {
   "cell_type": "markdown",
   "metadata": {},
   "source": [
    "# First things first\n",
    "\n",
    "It is programming tradition to start with a \"Hello world!\" program."
   ]
  },
  {
   "cell_type": "code",
   "execution_count": 1,
   "metadata": {
    "collapsed": false
   },
   "outputs": [
    {
     "name": "stdout",
     "output_type": "stream",
     "text": [
      "Hello world!\n"
     ]
    }
   ],
   "source": [
    "print('Hello world!')"
   ]
  },
  {
   "cell_type": "markdown",
   "metadata": {},
   "source": [
    "Congratulations, you've written your first program. \n",
    "\n",
    "This program consists of a single **command**, `print('Hello world!')`. A command tells the computer what to do. The `print` command causes Python to display something "
   ]
  },
  {
   "cell_type": "code",
   "execution_count": 2,
   "metadata": {
    "collapsed": true
   },
   "outputs": [],
   "source": [
    "# These lines are comments. The Python interpreter ignores them.\n",
    "# Comments are just notes for humans to read to help understand the code.\n",
    "# Best practice: add a comment for every couple lines of code to explain what's going on and why.\n",
    "# You'd be amazed at how quickly you forget your code's logic"
   ]
  },
  {
   "cell_type": "markdown",
   "metadata": {},
   "source": [
    "# Basic math"
   ]
  },
  {
   "cell_type": "code",
   "execution_count": 3,
   "metadata": {
    "collapsed": false
   },
   "outputs": [
    {
     "data": {
      "text/plain": [
       "7"
      ]
     },
     "execution_count": 3,
     "metadata": {},
     "output_type": "execute_result"
    }
   ],
   "source": [
    "# addition\n",
    "5 + 2"
   ]
  },
  {
   "cell_type": "code",
   "execution_count": 4,
   "metadata": {
    "collapsed": false
   },
   "outputs": [
    {
     "data": {
      "text/plain": [
       "3"
      ]
     },
     "execution_count": 4,
     "metadata": {},
     "output_type": "execute_result"
    }
   ],
   "source": [
    "# subtraction\n",
    "5 - 2"
   ]
  },
  {
   "cell_type": "code",
   "execution_count": 5,
   "metadata": {
    "collapsed": false
   },
   "outputs": [
    {
     "data": {
      "text/plain": [
       "10"
      ]
     },
     "execution_count": 5,
     "metadata": {},
     "output_type": "execute_result"
    }
   ],
   "source": [
    "# multiplication\n",
    "5 * 2"
   ]
  },
  {
   "cell_type": "code",
   "execution_count": 6,
   "metadata": {
    "collapsed": false
   },
   "outputs": [
    {
     "data": {
      "text/plain": [
       "2"
      ]
     },
     "execution_count": 6,
     "metadata": {},
     "output_type": "execute_result"
    }
   ],
   "source": [
    "# division\n",
    "5 / 2\n",
    "\n",
    "# Note that this is one of the major difference between Python 2 and 3!\n",
    "# In Python 3, this performs as we'd expect, and returns 2.5.\n",
    "# But in Python 2, the / operator performs integer division and only returns \n",
    "# the whole number portion of the result when you divide two integers.\n",
    "# (In Python 3, integer division uses the // operator.)"
   ]
  },
  {
   "cell_type": "code",
   "execution_count": 7,
   "metadata": {
    "collapsed": false
   },
   "outputs": [
    {
     "data": {
      "text/plain": [
       "False"
      ]
     },
     "execution_count": 7,
     "metadata": {},
     "output_type": "execute_result"
    }
   ],
   "source": [
    "# test for equality\n",
    "5 == 2"
   ]
  },
  {
   "cell_type": "code",
   "execution_count": 8,
   "metadata": {
    "collapsed": false
   },
   "outputs": [
    {
     "name": "stdout",
     "output_type": "stream",
     "text": [
      "25\n",
      "1\n"
     ]
    }
   ],
   "source": [
    "# exponentiation: raising 5 to the 2nd power\n",
    "print(5 ** 2)\n",
    "\n",
    "# the modulus operator: what is the remainder when you divide 5 by 2?\n",
    "print(5 % 2)"
   ]
  },
  {
   "cell_type": "markdown",
   "metadata": {},
   "source": [
    "# Variables and print commands"
   ]
  },
  {
   "cell_type": "code",
   "execution_count": 9,
   "metadata": {
    "collapsed": true
   },
   "outputs": [],
   "source": [
    "# variables, such as x here, contain values and their values can vary\n",
    "x = 5"
   ]
  },
  {
   "cell_type": "code",
   "execution_count": 10,
   "metadata": {
    "collapsed": false
   },
   "outputs": [
    {
     "name": "stdout",
     "output_type": "stream",
     "text": [
      "5\n"
     ]
    }
   ],
   "source": [
    "# what is the value of x?\n",
    "print(x)"
   ]
  },
  {
   "cell_type": "code",
   "execution_count": 11,
   "metadata": {
    "collapsed": false
   },
   "outputs": [
    {
     "name": "stdout",
     "output_type": "stream",
     "text": [
      "8\n"
     ]
    }
   ],
   "source": [
    "# you can perform operations on variables, just like you can on two numbers\n",
    "print(x + 3)"
   ]
  },
  {
   "cell_type": "code",
   "execution_count": 12,
   "metadata": {
    "collapsed": false
   },
   "outputs": [
    {
     "name": "stdout",
     "output_type": "stream",
     "text": [
      "5\n"
     ]
    }
   ],
   "source": [
    "# what is the value of x now?\n",
    "print(x)"
   ]
  },
  {
   "cell_type": "code",
   "execution_count": 13,
   "metadata": {
    "collapsed": true
   },
   "outputs": [],
   "source": [
    "# to update the value of a variable, you need to do an assignment again\n",
    "x = x + 3"
   ]
  },
  {
   "cell_type": "code",
   "execution_count": 14,
   "metadata": {
    "collapsed": false
   },
   "outputs": [
    {
     "name": "stdout",
     "output_type": "stream",
     "text": [
      "8\n"
     ]
    }
   ],
   "source": [
    "# and now what is the value of x?\n",
    "print(x)"
   ]
  },
  {
   "cell_type": "code",
   "execution_count": 15,
   "metadata": {
    "collapsed": false
   },
   "outputs": [
    {
     "name": "stdout",
     "output_type": "stream",
     "text": [
      "10\n"
     ]
    }
   ],
   "source": [
    "# create a new variable y from an operation on x\n",
    "x = 5\n",
    "y = x * 2\n",
    "print(y)"
   ]
  },
  {
   "cell_type": "code",
   "execution_count": 16,
   "metadata": {
    "collapsed": false
   },
   "outputs": [
    {
     "name": "stdout",
     "output_type": "stream",
     "text": [
      "5\n",
      "10\n"
     ]
    }
   ],
   "source": [
    "# outputting values only displays the last thing output\n",
    "print(x)\n",
    "print(y)"
   ]
  },
  {
   "cell_type": "code",
   "execution_count": 17,
   "metadata": {
    "collapsed": false
   },
   "outputs": [
    {
     "name": "stdout",
     "output_type": "stream",
     "text": [
      "(5, 10)\n"
     ]
    }
   ],
   "source": [
    "# you can comma-separate values to print multiple to the console on one line\n",
    "print(x, y)"
   ]
  },
  {
   "cell_type": "code",
   "execution_count": 18,
   "metadata": {
    "collapsed": false
   },
   "outputs": [
    {
     "name": "stdout",
     "output_type": "stream",
     "text": [
      "50\n"
     ]
    }
   ],
   "source": [
    "# you can also print the result of an expression\n",
    "print (x * y)"
   ]
  },
  {
   "cell_type": "code",
   "execution_count": 19,
   "metadata": {
    "collapsed": false
   },
   "outputs": [],
   "source": [
    "# Naming conventions: you can't have spaces or dashes in variable names\n",
    "# Also, variable names must begin with a letter (but after that, numbers are fine)\n",
    "# Underscores _ and Mixed Case is fine\n",
    "# Variable names (like the rest of Python) are case sensitive\n",
    "# Stylistically, variable names should begin with a lowercase letter\n",
    "# names_with_underscores are one good approach\n",
    "# namesWithCapitals are another\n",
    "\n",
    "my_var = 1\n",
    "my_var2 = 2\n",
    "anotherVar = 3\n",
    "# this-aint-a-var = 4"
   ]
  },
  {
   "cell_type": "markdown",
   "metadata": {},
   "source": [
    "# Data types"
   ]
  },
  {
   "cell_type": "code",
   "execution_count": 20,
   "metadata": {
    "collapsed": false
   },
   "outputs": [
    {
     "data": {
      "text/plain": [
       "int"
      ]
     },
     "execution_count": 20,
     "metadata": {},
     "output_type": "execute_result"
    }
   ],
   "source": [
    "# integers are whole numbers\n",
    "type(125)"
   ]
  },
  {
   "cell_type": "code",
   "execution_count": 21,
   "metadata": {
    "collapsed": false
   },
   "outputs": [
    {
     "data": {
      "text/plain": [
       "int"
      ]
     },
     "execution_count": 21,
     "metadata": {},
     "output_type": "execute_result"
    }
   ],
   "source": [
    "# every variable has a data type, and they can be of any type\n",
    "x = 125\n",
    "type(x)"
   ]
  },
  {
   "cell_type": "code",
   "execution_count": 22,
   "metadata": {
    "collapsed": false
   },
   "outputs": [
    {
     "data": {
      "text/plain": [
       "float"
      ]
     },
     "execution_count": 22,
     "metadata": {},
     "output_type": "execute_result"
    }
   ],
   "source": [
    "# float is a floating point (aka decimal) number\n",
    "some_rate = 4.3\n",
    "type(some_rate)"
   ]
  },
  {
   "cell_type": "code",
   "execution_count": 23,
   "metadata": {
    "collapsed": false
   },
   "outputs": [
    {
     "data": {
      "text/plain": [
       "str"
      ]
     },
     "execution_count": 23,
     "metadata": {},
     "output_type": "execute_result"
    }
   ],
   "source": [
    "# strings are strings of characters\n",
    "my_string = 'abc'\n",
    "type(my_string)"
   ]
  },
  {
   "cell_type": "code",
   "execution_count": 24,
   "metadata": {
    "collapsed": false
   },
   "outputs": [
    {
     "name": "stdout",
     "output_type": "stream",
     "text": [
      "[1, 2, 3, 4]\n"
     ]
    },
    {
     "data": {
      "text/plain": [
       "list"
      ]
     },
     "execution_count": 24,
     "metadata": {},
     "output_type": "execute_result"
    }
   ],
   "source": [
    "# a list is a collection of elements denoted by square brackets\n",
    "my_list = [1, 2, 3, 4]\n",
    "print(my_list)\n",
    "type(my_list)"
   ]
  },
  {
   "cell_type": "code",
   "execution_count": 96,
   "metadata": {
    "collapsed": false
   },
   "outputs": [
    {
     "name": "stdout",
     "output_type": "stream",
     "text": [
      "{'first_name': 'Carolina', 'last_name': 'Reid'}\n"
     ]
    },
    {
     "data": {
      "text/plain": [
       "dict"
      ]
     },
     "execution_count": 96,
     "metadata": {},
     "output_type": "execute_result"
    }
   ],
   "source": [
    "# a dictionary is a collection of key:value pairs, denoted by curly braces\n",
    "person = {'first_name':'Carolina', 'last_name':'Reid'}\n",
    "print(person)\n",
    "type(person)"
   ]
  },
  {
   "cell_type": "code",
   "execution_count": 97,
   "metadata": {
    "collapsed": false
   },
   "outputs": [
    {
     "data": {
      "text/plain": [
       "'Carolina'"
      ]
     },
     "execution_count": 97,
     "metadata": {},
     "output_type": "execute_result"
    }
   ],
   "source": [
    "person['first_name']"
   ]
  },
  {
   "cell_type": "markdown",
   "metadata": {
    "collapsed": true
   },
   "source": [
    "# String processing"
   ]
  },
  {
   "cell_type": "code",
   "execution_count": 26,
   "metadata": {
    "collapsed": false
   },
   "outputs": [
    {
     "name": "stdout",
     "output_type": "stream",
     "text": [
      "Berkeley, California 94703\n"
     ]
    }
   ],
   "source": [
    "# some of the operators we saw earlier work on strings\n",
    "city = 'Berkeley'\n",
    "sep = ', '\n",
    "state = 'California'\n",
    "zip_code = '94703'\n",
    "\n",
    "location = city + sep + state + ' ' + zip_code\n",
    "print(location)"
   ]
  },
  {
   "cell_type": "code",
   "execution_count": 27,
   "metadata": {
    "collapsed": false
   },
   "outputs": [
    {
     "data": {
      "text/plain": [
       "'947039470394703'"
      ]
     },
     "execution_count": 27,
     "metadata": {},
     "output_type": "execute_result"
    }
   ],
   "source": [
    "# multiplying a string just duplicates it\n",
    "zip_code * 3\n",
    "\n",
    "# division, exponentiation, and modulus don't work with strings."
   ]
  },
  {
   "cell_type": "code",
   "execution_count": 28,
   "metadata": {
    "collapsed": false
   },
   "outputs": [
    {
     "data": {
      "text/plain": [
       "26"
      ]
     },
     "execution_count": 28,
     "metadata": {},
     "output_type": "execute_result"
    }
   ],
   "source": [
    "# how many characters are in this string?\n",
    "len(location)"
   ]
  },
  {
   "cell_type": "code",
   "execution_count": 29,
   "metadata": {
    "collapsed": false
   },
   "outputs": [
    {
     "data": {
      "text/plain": [
       "'rke'"
      ]
     },
     "execution_count": 29,
     "metadata": {},
     "output_type": "execute_result"
    }
   ],
   "source": [
    "# get a substring from some position up to but not including a second position\n",
    "location[2:5]"
   ]
  },
  {
   "cell_type": "code",
   "execution_count": 30,
   "metadata": {
    "collapsed": false
   },
   "outputs": [
    {
     "data": {
      "text/plain": [
       "'Berke'"
      ]
     },
     "execution_count": 30,
     "metadata": {},
     "output_type": "execute_result"
    }
   ],
   "source": [
    "# get the first n characters from the string\n",
    "location[:5]"
   ]
  },
  {
   "cell_type": "code",
   "execution_count": 31,
   "metadata": {
    "collapsed": false
   },
   "outputs": [
    {
     "data": {
      "text/plain": [
       "'ley, California 94703'"
      ]
     },
     "execution_count": 31,
     "metadata": {},
     "output_type": "execute_result"
    }
   ],
   "source": [
    "# get the characters from the string after the nth position\n",
    "location[5:]"
   ]
  },
  {
   "cell_type": "code",
   "execution_count": 32,
   "metadata": {
    "collapsed": false
   },
   "outputs": [
    {
     "data": {
      "text/plain": [
       "'BErkElEy, California 94703'"
      ]
     },
     "execution_count": 32,
     "metadata": {},
     "output_type": "execute_result"
    }
   ],
   "source": [
    "# you can replace characters in a string with the replace() method\n",
    "location.replace('e', 'E')\n",
    "\n",
    "# We'll look at methods a lot more later on.\n",
    "# We don't have enough time to really get into it, but Python string formatting\n",
    "# is incredibly flexible and powerful and merits further investigation."
   ]
  },
  {
   "cell_type": "markdown",
   "metadata": {},
   "source": [
    "# Intro to Pandas"
   ]
  },
  {
   "cell_type": "code",
   "execution_count": 39,
   "metadata": {
    "collapsed": true
   },
   "outputs": [],
   "source": [
    "# To use a package, you have to import it\n",
    "\n",
    "import pandas as pd"
   ]
  },
  {
   "cell_type": "code",
   "execution_count": 40,
   "metadata": {
    "collapsed": false
   },
   "outputs": [],
   "source": [
    "# Use the read_csv method to load a csv file into a DataFrame\n",
    "\n",
    "places = pd.read_csv('survey_place.csv')"
   ]
  },
  {
   "cell_type": "markdown",
   "metadata": {},
   "source": [
    "A little explanation stolen from Geoff Boeing's notebook at https://github.com/gboeing/urban-data-science/blob/master/07-Intro-to-Pandas/intro-to-pandas.ipynb:\n",
    "\n",
    "> pandas is designed to make it easier to work with structured data. Most of the analyses you might perform will likely involve using tabular data, e.g., from .csv files or relational databases (e.g., SQL). The DataFrame object in pandas is \"a two-dimensional tabular, column-oriented data structure with both row and column labels.\""
   ]
  },
  {
   "cell_type": "code",
   "execution_count": 41,
   "metadata": {
    "collapsed": false
   },
   "outputs": [
    {
     "data": {
      "text/html": [
       "<div>\n",
       "<table border=\"1\" class=\"dataframe\">\n",
       "  <thead>\n",
       "    <tr style=\"text-align: right;\">\n",
       "      <th></th>\n",
       "      <th>sampno</th>\n",
       "      <th>perno</th>\n",
       "      <th>plano</th>\n",
       "      <th>vehno</th>\n",
       "      <th>tripno</th>\n",
       "      <th>place_name</th>\n",
       "      <th>travel_date</th>\n",
       "      <th>arr_time</th>\n",
       "      <th>dep_time</th>\n",
       "      <th>mode</th>\n",
       "      <th>...</th>\n",
       "      <th>hhmem</th>\n",
       "      <th>lon</th>\n",
       "      <th>lat</th>\n",
       "      <th>non_hh_members</th>\n",
       "      <th>route</th>\n",
       "      <th>per1</th>\n",
       "      <th>per2</th>\n",
       "      <th>per3</th>\n",
       "      <th>per4</th>\n",
       "      <th>per5</th>\n",
       "    </tr>\n",
       "  </thead>\n",
       "  <tbody>\n",
       "    <tr>\n",
       "      <th>0</th>\n",
       "      <td>1031985</td>\n",
       "      <td>1</td>\n",
       "      <td>1</td>\n",
       "      <td>NaN</td>\n",
       "      <td>NaN</td>\n",
       "      <td>redacted</td>\n",
       "      <td>5/1/2012</td>\n",
       "      <td>3:00:00</td>\n",
       "      <td>8:00:00</td>\n",
       "      <td>NaN</td>\n",
       "      <td>...</td>\n",
       "      <td>NaN</td>\n",
       "      <td>redacted</td>\n",
       "      <td>redacted</td>\n",
       "      <td>NaN</td>\n",
       "      <td>NaN</td>\n",
       "      <td>NaN</td>\n",
       "      <td>NaN</td>\n",
       "      <td>NaN</td>\n",
       "      <td>NaN</td>\n",
       "      <td>NaN</td>\n",
       "    </tr>\n",
       "    <tr>\n",
       "      <th>1</th>\n",
       "      <td>1031985</td>\n",
       "      <td>1</td>\n",
       "      <td>2</td>\n",
       "      <td>97.0</td>\n",
       "      <td>1.0</td>\n",
       "      <td>redacted</td>\n",
       "      <td>5/1/2012</td>\n",
       "      <td>9:00:00</td>\n",
       "      <td>12:00:00</td>\n",
       "      <td>6.0</td>\n",
       "      <td>...</td>\n",
       "      <td>0.0</td>\n",
       "      <td>redacted</td>\n",
       "      <td>redacted</td>\n",
       "      <td>1.0</td>\n",
       "      <td>NaN</td>\n",
       "      <td>NaN</td>\n",
       "      <td>NaN</td>\n",
       "      <td>NaN</td>\n",
       "      <td>NaN</td>\n",
       "      <td>NaN</td>\n",
       "    </tr>\n",
       "    <tr>\n",
       "      <th>2</th>\n",
       "      <td>1031985</td>\n",
       "      <td>1</td>\n",
       "      <td>3</td>\n",
       "      <td>97.0</td>\n",
       "      <td>2.0</td>\n",
       "      <td>redacted</td>\n",
       "      <td>5/1/2012</td>\n",
       "      <td>13:00:00</td>\n",
       "      <td>2:00:00</td>\n",
       "      <td>6.0</td>\n",
       "      <td>...</td>\n",
       "      <td>0.0</td>\n",
       "      <td>redacted</td>\n",
       "      <td>redacted</td>\n",
       "      <td>1.0</td>\n",
       "      <td>NaN</td>\n",
       "      <td>NaN</td>\n",
       "      <td>NaN</td>\n",
       "      <td>NaN</td>\n",
       "      <td>NaN</td>\n",
       "      <td>NaN</td>\n",
       "    </tr>\n",
       "    <tr>\n",
       "      <th>3</th>\n",
       "      <td>1031985</td>\n",
       "      <td>2</td>\n",
       "      <td>1</td>\n",
       "      <td>NaN</td>\n",
       "      <td>NaN</td>\n",
       "      <td>redacted</td>\n",
       "      <td>5/1/2012</td>\n",
       "      <td>3:00:00</td>\n",
       "      <td>9:00:00</td>\n",
       "      <td>NaN</td>\n",
       "      <td>...</td>\n",
       "      <td>NaN</td>\n",
       "      <td>redacted</td>\n",
       "      <td>redacted</td>\n",
       "      <td>NaN</td>\n",
       "      <td>NaN</td>\n",
       "      <td>NaN</td>\n",
       "      <td>NaN</td>\n",
       "      <td>NaN</td>\n",
       "      <td>NaN</td>\n",
       "      <td>NaN</td>\n",
       "    </tr>\n",
       "    <tr>\n",
       "      <th>4</th>\n",
       "      <td>1031985</td>\n",
       "      <td>2</td>\n",
       "      <td>2</td>\n",
       "      <td>1.0</td>\n",
       "      <td>1.0</td>\n",
       "      <td>redacted</td>\n",
       "      <td>5/1/2012</td>\n",
       "      <td>9:00:00</td>\n",
       "      <td>10:00:00</td>\n",
       "      <td>5.0</td>\n",
       "      <td>...</td>\n",
       "      <td>0.0</td>\n",
       "      <td>redacted</td>\n",
       "      <td>redacted</td>\n",
       "      <td>0.0</td>\n",
       "      <td>NaN</td>\n",
       "      <td>NaN</td>\n",
       "      <td>NaN</td>\n",
       "      <td>NaN</td>\n",
       "      <td>NaN</td>\n",
       "      <td>NaN</td>\n",
       "    </tr>\n",
       "    <tr>\n",
       "      <th>5</th>\n",
       "      <td>1031985</td>\n",
       "      <td>2</td>\n",
       "      <td>3</td>\n",
       "      <td>1.0</td>\n",
       "      <td>2.0</td>\n",
       "      <td>redacted</td>\n",
       "      <td>5/1/2012</td>\n",
       "      <td>10:00:00</td>\n",
       "      <td>2:00:00</td>\n",
       "      <td>5.0</td>\n",
       "      <td>...</td>\n",
       "      <td>0.0</td>\n",
       "      <td>redacted</td>\n",
       "      <td>redacted</td>\n",
       "      <td>0.0</td>\n",
       "      <td>NaN</td>\n",
       "      <td>NaN</td>\n",
       "      <td>NaN</td>\n",
       "      <td>NaN</td>\n",
       "      <td>NaN</td>\n",
       "      <td>NaN</td>\n",
       "    </tr>\n",
       "    <tr>\n",
       "      <th>6</th>\n",
       "      <td>1032036</td>\n",
       "      <td>1</td>\n",
       "      <td>1</td>\n",
       "      <td>NaN</td>\n",
       "      <td>NaN</td>\n",
       "      <td>redacted</td>\n",
       "      <td>5/12/2012</td>\n",
       "      <td>3:00:00</td>\n",
       "      <td>8:00:00</td>\n",
       "      <td>NaN</td>\n",
       "      <td>...</td>\n",
       "      <td>NaN</td>\n",
       "      <td>redacted</td>\n",
       "      <td>redacted</td>\n",
       "      <td>NaN</td>\n",
       "      <td>NaN</td>\n",
       "      <td>NaN</td>\n",
       "      <td>NaN</td>\n",
       "      <td>NaN</td>\n",
       "      <td>NaN</td>\n",
       "      <td>NaN</td>\n",
       "    </tr>\n",
       "    <tr>\n",
       "      <th>7</th>\n",
       "      <td>1032036</td>\n",
       "      <td>1</td>\n",
       "      <td>2</td>\n",
       "      <td>1.0</td>\n",
       "      <td>1.0</td>\n",
       "      <td>redacted</td>\n",
       "      <td>5/12/2012</td>\n",
       "      <td>8:00:00</td>\n",
       "      <td>15:00:00</td>\n",
       "      <td>5.0</td>\n",
       "      <td>...</td>\n",
       "      <td>2.0</td>\n",
       "      <td>redacted</td>\n",
       "      <td>redacted</td>\n",
       "      <td>0.0</td>\n",
       "      <td>NaN</td>\n",
       "      <td>4.0</td>\n",
       "      <td>5.0</td>\n",
       "      <td>NaN</td>\n",
       "      <td>NaN</td>\n",
       "      <td>NaN</td>\n",
       "    </tr>\n",
       "    <tr>\n",
       "      <th>8</th>\n",
       "      <td>1032036</td>\n",
       "      <td>1</td>\n",
       "      <td>3</td>\n",
       "      <td>1.0</td>\n",
       "      <td>2.0</td>\n",
       "      <td>redacted</td>\n",
       "      <td>5/12/2012</td>\n",
       "      <td>15:00:00</td>\n",
       "      <td>16:00:00</td>\n",
       "      <td>5.0</td>\n",
       "      <td>...</td>\n",
       "      <td>4.0</td>\n",
       "      <td>redacted</td>\n",
       "      <td>redacted</td>\n",
       "      <td>0.0</td>\n",
       "      <td>NaN</td>\n",
       "      <td>2.0</td>\n",
       "      <td>3.0</td>\n",
       "      <td>4.0</td>\n",
       "      <td>5.0</td>\n",
       "      <td>NaN</td>\n",
       "    </tr>\n",
       "    <tr>\n",
       "      <th>9</th>\n",
       "      <td>1032036</td>\n",
       "      <td>1</td>\n",
       "      <td>4</td>\n",
       "      <td>1.0</td>\n",
       "      <td>3.0</td>\n",
       "      <td>redacted</td>\n",
       "      <td>5/12/2012</td>\n",
       "      <td>16:00:00</td>\n",
       "      <td>17:00:00</td>\n",
       "      <td>5.0</td>\n",
       "      <td>...</td>\n",
       "      <td>1.0</td>\n",
       "      <td>redacted</td>\n",
       "      <td>redacted</td>\n",
       "      <td>0.0</td>\n",
       "      <td>NaN</td>\n",
       "      <td>2.0</td>\n",
       "      <td>NaN</td>\n",
       "      <td>NaN</td>\n",
       "      <td>NaN</td>\n",
       "      <td>NaN</td>\n",
       "    </tr>\n",
       "    <tr>\n",
       "      <th>10</th>\n",
       "      <td>1032036</td>\n",
       "      <td>1</td>\n",
       "      <td>5</td>\n",
       "      <td>1.0</td>\n",
       "      <td>4.0</td>\n",
       "      <td>redacted</td>\n",
       "      <td>5/12/2012</td>\n",
       "      <td>17:00:00</td>\n",
       "      <td>18:00:00</td>\n",
       "      <td>5.0</td>\n",
       "      <td>...</td>\n",
       "      <td>1.0</td>\n",
       "      <td>redacted</td>\n",
       "      <td>redacted</td>\n",
       "      <td>0.0</td>\n",
       "      <td>NaN</td>\n",
       "      <td>2.0</td>\n",
       "      <td>NaN</td>\n",
       "      <td>NaN</td>\n",
       "      <td>NaN</td>\n",
       "      <td>NaN</td>\n",
       "    </tr>\n",
       "    <tr>\n",
       "      <th>11</th>\n",
       "      <td>1032036</td>\n",
       "      <td>1</td>\n",
       "      <td>6</td>\n",
       "      <td>1.0</td>\n",
       "      <td>5.0</td>\n",
       "      <td>redacted</td>\n",
       "      <td>5/12/2012</td>\n",
       "      <td>19:00:00</td>\n",
       "      <td>2:00:00</td>\n",
       "      <td>5.0</td>\n",
       "      <td>...</td>\n",
       "      <td>1.0</td>\n",
       "      <td>redacted</td>\n",
       "      <td>redacted</td>\n",
       "      <td>0.0</td>\n",
       "      <td>NaN</td>\n",
       "      <td>2.0</td>\n",
       "      <td>NaN</td>\n",
       "      <td>NaN</td>\n",
       "      <td>NaN</td>\n",
       "      <td>NaN</td>\n",
       "    </tr>\n",
       "    <tr>\n",
       "      <th>12</th>\n",
       "      <td>1032036</td>\n",
       "      <td>2</td>\n",
       "      <td>1</td>\n",
       "      <td>NaN</td>\n",
       "      <td>NaN</td>\n",
       "      <td>redacted</td>\n",
       "      <td>5/12/2012</td>\n",
       "      <td>3:00:00</td>\n",
       "      <td>8:00:00</td>\n",
       "      <td>NaN</td>\n",
       "      <td>...</td>\n",
       "      <td>NaN</td>\n",
       "      <td>redacted</td>\n",
       "      <td>redacted</td>\n",
       "      <td>NaN</td>\n",
       "      <td>NaN</td>\n",
       "      <td>NaN</td>\n",
       "      <td>NaN</td>\n",
       "      <td>NaN</td>\n",
       "      <td>NaN</td>\n",
       "      <td>NaN</td>\n",
       "    </tr>\n",
       "    <tr>\n",
       "      <th>13</th>\n",
       "      <td>1032036</td>\n",
       "      <td>2</td>\n",
       "      <td>2</td>\n",
       "      <td>97.0</td>\n",
       "      <td>1.0</td>\n",
       "      <td>redacted</td>\n",
       "      <td>5/12/2012</td>\n",
       "      <td>8:00:00</td>\n",
       "      <td>9:00:00</td>\n",
       "      <td>6.0</td>\n",
       "      <td>...</td>\n",
       "      <td>0.0</td>\n",
       "      <td>redacted</td>\n",
       "      <td>redacted</td>\n",
       "      <td>1.0</td>\n",
       "      <td>NaN</td>\n",
       "      <td>NaN</td>\n",
       "      <td>NaN</td>\n",
       "      <td>NaN</td>\n",
       "      <td>NaN</td>\n",
       "      <td>NaN</td>\n",
       "    </tr>\n",
       "    <tr>\n",
       "      <th>14</th>\n",
       "      <td>1032036</td>\n",
       "      <td>2</td>\n",
       "      <td>3</td>\n",
       "      <td>97.0</td>\n",
       "      <td>2.0</td>\n",
       "      <td>redacted</td>\n",
       "      <td>5/12/2012</td>\n",
       "      <td>9:00:00</td>\n",
       "      <td>10:00:00</td>\n",
       "      <td>6.0</td>\n",
       "      <td>...</td>\n",
       "      <td>0.0</td>\n",
       "      <td>redacted</td>\n",
       "      <td>redacted</td>\n",
       "      <td>1.0</td>\n",
       "      <td>NaN</td>\n",
       "      <td>NaN</td>\n",
       "      <td>NaN</td>\n",
       "      <td>NaN</td>\n",
       "      <td>NaN</td>\n",
       "      <td>NaN</td>\n",
       "    </tr>\n",
       "    <tr>\n",
       "      <th>15</th>\n",
       "      <td>1032036</td>\n",
       "      <td>2</td>\n",
       "      <td>4</td>\n",
       "      <td>97.0</td>\n",
       "      <td>3.0</td>\n",
       "      <td>redacted</td>\n",
       "      <td>5/12/2012</td>\n",
       "      <td>10:00:00</td>\n",
       "      <td>11:00:00</td>\n",
       "      <td>6.0</td>\n",
       "      <td>...</td>\n",
       "      <td>0.0</td>\n",
       "      <td>redacted</td>\n",
       "      <td>redacted</td>\n",
       "      <td>1.0</td>\n",
       "      <td>NaN</td>\n",
       "      <td>NaN</td>\n",
       "      <td>NaN</td>\n",
       "      <td>NaN</td>\n",
       "      <td>NaN</td>\n",
       "      <td>NaN</td>\n",
       "    </tr>\n",
       "    <tr>\n",
       "      <th>16</th>\n",
       "      <td>1032036</td>\n",
       "      <td>2</td>\n",
       "      <td>5</td>\n",
       "      <td>97.0</td>\n",
       "      <td>4.0</td>\n",
       "      <td>redacted</td>\n",
       "      <td>5/12/2012</td>\n",
       "      <td>11:00:00</td>\n",
       "      <td>11:00:00</td>\n",
       "      <td>6.0</td>\n",
       "      <td>...</td>\n",
       "      <td>1.0</td>\n",
       "      <td>redacted</td>\n",
       "      <td>redacted</td>\n",
       "      <td>1.0</td>\n",
       "      <td>NaN</td>\n",
       "      <td>3.0</td>\n",
       "      <td>NaN</td>\n",
       "      <td>NaN</td>\n",
       "      <td>NaN</td>\n",
       "      <td>NaN</td>\n",
       "    </tr>\n",
       "    <tr>\n",
       "      <th>17</th>\n",
       "      <td>1032036</td>\n",
       "      <td>2</td>\n",
       "      <td>6</td>\n",
       "      <td>97.0</td>\n",
       "      <td>5.0</td>\n",
       "      <td>redacted</td>\n",
       "      <td>5/12/2012</td>\n",
       "      <td>11:00:00</td>\n",
       "      <td>11:00:00</td>\n",
       "      <td>6.0</td>\n",
       "      <td>...</td>\n",
       "      <td>1.0</td>\n",
       "      <td>redacted</td>\n",
       "      <td>redacted</td>\n",
       "      <td>1.0</td>\n",
       "      <td>NaN</td>\n",
       "      <td>3.0</td>\n",
       "      <td>NaN</td>\n",
       "      <td>NaN</td>\n",
       "      <td>NaN</td>\n",
       "      <td>NaN</td>\n",
       "    </tr>\n",
       "    <tr>\n",
       "      <th>18</th>\n",
       "      <td>1032036</td>\n",
       "      <td>2</td>\n",
       "      <td>7</td>\n",
       "      <td>97.0</td>\n",
       "      <td>6.0</td>\n",
       "      <td>redacted</td>\n",
       "      <td>5/12/2012</td>\n",
       "      <td>12:00:00</td>\n",
       "      <td>12:00:00</td>\n",
       "      <td>6.0</td>\n",
       "      <td>...</td>\n",
       "      <td>1.0</td>\n",
       "      <td>redacted</td>\n",
       "      <td>redacted</td>\n",
       "      <td>1.0</td>\n",
       "      <td>NaN</td>\n",
       "      <td>3.0</td>\n",
       "      <td>NaN</td>\n",
       "      <td>NaN</td>\n",
       "      <td>NaN</td>\n",
       "      <td>NaN</td>\n",
       "    </tr>\n",
       "    <tr>\n",
       "      <th>19</th>\n",
       "      <td>1032036</td>\n",
       "      <td>2</td>\n",
       "      <td>8</td>\n",
       "      <td>1.0</td>\n",
       "      <td>7.0</td>\n",
       "      <td>redacted</td>\n",
       "      <td>5/12/2012</td>\n",
       "      <td>12:00:00</td>\n",
       "      <td>12:00:00</td>\n",
       "      <td>5.0</td>\n",
       "      <td>...</td>\n",
       "      <td>0.0</td>\n",
       "      <td>redacted</td>\n",
       "      <td>redacted</td>\n",
       "      <td>0.0</td>\n",
       "      <td>NaN</td>\n",
       "      <td>NaN</td>\n",
       "      <td>NaN</td>\n",
       "      <td>NaN</td>\n",
       "      <td>NaN</td>\n",
       "      <td>NaN</td>\n",
       "    </tr>\n",
       "    <tr>\n",
       "      <th>20</th>\n",
       "      <td>1032036</td>\n",
       "      <td>2</td>\n",
       "      <td>9</td>\n",
       "      <td>1.0</td>\n",
       "      <td>8.0</td>\n",
       "      <td>redacted</td>\n",
       "      <td>5/12/2012</td>\n",
       "      <td>12:00:00</td>\n",
       "      <td>12:00:00</td>\n",
       "      <td>5.0</td>\n",
       "      <td>...</td>\n",
       "      <td>0.0</td>\n",
       "      <td>redacted</td>\n",
       "      <td>redacted</td>\n",
       "      <td>0.0</td>\n",
       "      <td>NaN</td>\n",
       "      <td>NaN</td>\n",
       "      <td>NaN</td>\n",
       "      <td>NaN</td>\n",
       "      <td>NaN</td>\n",
       "      <td>NaN</td>\n",
       "    </tr>\n",
       "    <tr>\n",
       "      <th>21</th>\n",
       "      <td>1032036</td>\n",
       "      <td>2</td>\n",
       "      <td>10</td>\n",
       "      <td>1.0</td>\n",
       "      <td>9.0</td>\n",
       "      <td>redacted</td>\n",
       "      <td>5/12/2012</td>\n",
       "      <td>12:00:00</td>\n",
       "      <td>13:00:00</td>\n",
       "      <td>5.0</td>\n",
       "      <td>...</td>\n",
       "      <td>0.0</td>\n",
       "      <td>redacted</td>\n",
       "      <td>redacted</td>\n",
       "      <td>0.0</td>\n",
       "      <td>NaN</td>\n",
       "      <td>NaN</td>\n",
       "      <td>NaN</td>\n",
       "      <td>NaN</td>\n",
       "      <td>NaN</td>\n",
       "      <td>NaN</td>\n",
       "    </tr>\n",
       "    <tr>\n",
       "      <th>22</th>\n",
       "      <td>1032036</td>\n",
       "      <td>2</td>\n",
       "      <td>11</td>\n",
       "      <td>1.0</td>\n",
       "      <td>10.0</td>\n",
       "      <td>redacted</td>\n",
       "      <td>5/12/2012</td>\n",
       "      <td>13:00:00</td>\n",
       "      <td>15:00:00</td>\n",
       "      <td>5.0</td>\n",
       "      <td>...</td>\n",
       "      <td>0.0</td>\n",
       "      <td>redacted</td>\n",
       "      <td>redacted</td>\n",
       "      <td>0.0</td>\n",
       "      <td>NaN</td>\n",
       "      <td>NaN</td>\n",
       "      <td>NaN</td>\n",
       "      <td>NaN</td>\n",
       "      <td>NaN</td>\n",
       "      <td>NaN</td>\n",
       "    </tr>\n",
       "    <tr>\n",
       "      <th>23</th>\n",
       "      <td>1032036</td>\n",
       "      <td>2</td>\n",
       "      <td>12</td>\n",
       "      <td>1.0</td>\n",
       "      <td>11.0</td>\n",
       "      <td>redacted</td>\n",
       "      <td>5/12/2012</td>\n",
       "      <td>15:00:00</td>\n",
       "      <td>16:00:00</td>\n",
       "      <td>6.0</td>\n",
       "      <td>...</td>\n",
       "      <td>4.0</td>\n",
       "      <td>redacted</td>\n",
       "      <td>redacted</td>\n",
       "      <td>0.0</td>\n",
       "      <td>NaN</td>\n",
       "      <td>1.0</td>\n",
       "      <td>3.0</td>\n",
       "      <td>4.0</td>\n",
       "      <td>5.0</td>\n",
       "      <td>NaN</td>\n",
       "    </tr>\n",
       "    <tr>\n",
       "      <th>24</th>\n",
       "      <td>1032036</td>\n",
       "      <td>2</td>\n",
       "      <td>13</td>\n",
       "      <td>1.0</td>\n",
       "      <td>12.0</td>\n",
       "      <td>redacted</td>\n",
       "      <td>5/12/2012</td>\n",
       "      <td>16:00:00</td>\n",
       "      <td>17:00:00</td>\n",
       "      <td>6.0</td>\n",
       "      <td>...</td>\n",
       "      <td>1.0</td>\n",
       "      <td>redacted</td>\n",
       "      <td>redacted</td>\n",
       "      <td>0.0</td>\n",
       "      <td>NaN</td>\n",
       "      <td>1.0</td>\n",
       "      <td>NaN</td>\n",
       "      <td>NaN</td>\n",
       "      <td>NaN</td>\n",
       "      <td>NaN</td>\n",
       "    </tr>\n",
       "    <tr>\n",
       "      <th>25</th>\n",
       "      <td>1032036</td>\n",
       "      <td>2</td>\n",
       "      <td>14</td>\n",
       "      <td>1.0</td>\n",
       "      <td>13.0</td>\n",
       "      <td>redacted</td>\n",
       "      <td>5/12/2012</td>\n",
       "      <td>17:00:00</td>\n",
       "      <td>18:00:00</td>\n",
       "      <td>6.0</td>\n",
       "      <td>...</td>\n",
       "      <td>1.0</td>\n",
       "      <td>redacted</td>\n",
       "      <td>redacted</td>\n",
       "      <td>0.0</td>\n",
       "      <td>NaN</td>\n",
       "      <td>1.0</td>\n",
       "      <td>NaN</td>\n",
       "      <td>NaN</td>\n",
       "      <td>NaN</td>\n",
       "      <td>NaN</td>\n",
       "    </tr>\n",
       "    <tr>\n",
       "      <th>26</th>\n",
       "      <td>1032036</td>\n",
       "      <td>2</td>\n",
       "      <td>15</td>\n",
       "      <td>1.0</td>\n",
       "      <td>14.0</td>\n",
       "      <td>redacted</td>\n",
       "      <td>5/12/2012</td>\n",
       "      <td>19:00:00</td>\n",
       "      <td>20:00:00</td>\n",
       "      <td>6.0</td>\n",
       "      <td>...</td>\n",
       "      <td>1.0</td>\n",
       "      <td>redacted</td>\n",
       "      <td>redacted</td>\n",
       "      <td>0.0</td>\n",
       "      <td>NaN</td>\n",
       "      <td>1.0</td>\n",
       "      <td>NaN</td>\n",
       "      <td>NaN</td>\n",
       "      <td>NaN</td>\n",
       "      <td>NaN</td>\n",
       "    </tr>\n",
       "    <tr>\n",
       "      <th>27</th>\n",
       "      <td>1032036</td>\n",
       "      <td>2</td>\n",
       "      <td>16</td>\n",
       "      <td>97.0</td>\n",
       "      <td>15.0</td>\n",
       "      <td>redacted</td>\n",
       "      <td>5/12/2012</td>\n",
       "      <td>20:00:00</td>\n",
       "      <td>20:00:00</td>\n",
       "      <td>5.0</td>\n",
       "      <td>...</td>\n",
       "      <td>0.0</td>\n",
       "      <td>redacted</td>\n",
       "      <td>redacted</td>\n",
       "      <td>0.0</td>\n",
       "      <td>NaN</td>\n",
       "      <td>NaN</td>\n",
       "      <td>NaN</td>\n",
       "      <td>NaN</td>\n",
       "      <td>NaN</td>\n",
       "      <td>NaN</td>\n",
       "    </tr>\n",
       "    <tr>\n",
       "      <th>28</th>\n",
       "      <td>1032036</td>\n",
       "      <td>2</td>\n",
       "      <td>17</td>\n",
       "      <td>97.0</td>\n",
       "      <td>16.0</td>\n",
       "      <td>redacted</td>\n",
       "      <td>5/12/2012</td>\n",
       "      <td>20:00:00</td>\n",
       "      <td>20:00:00</td>\n",
       "      <td>6.0</td>\n",
       "      <td>...</td>\n",
       "      <td>0.0</td>\n",
       "      <td>redacted</td>\n",
       "      <td>redacted</td>\n",
       "      <td>1.0</td>\n",
       "      <td>NaN</td>\n",
       "      <td>NaN</td>\n",
       "      <td>NaN</td>\n",
       "      <td>NaN</td>\n",
       "      <td>NaN</td>\n",
       "      <td>NaN</td>\n",
       "    </tr>\n",
       "    <tr>\n",
       "      <th>29</th>\n",
       "      <td>1032036</td>\n",
       "      <td>2</td>\n",
       "      <td>18</td>\n",
       "      <td>97.0</td>\n",
       "      <td>17.0</td>\n",
       "      <td>redacted</td>\n",
       "      <td>5/12/2012</td>\n",
       "      <td>21:00:00</td>\n",
       "      <td>21:00:00</td>\n",
       "      <td>6.0</td>\n",
       "      <td>...</td>\n",
       "      <td>0.0</td>\n",
       "      <td>redacted</td>\n",
       "      <td>redacted</td>\n",
       "      <td>1.0</td>\n",
       "      <td>NaN</td>\n",
       "      <td>NaN</td>\n",
       "      <td>NaN</td>\n",
       "      <td>NaN</td>\n",
       "      <td>NaN</td>\n",
       "      <td>NaN</td>\n",
       "    </tr>\n",
       "    <tr>\n",
       "      <th>...</th>\n",
       "      <td>...</td>\n",
       "      <td>...</td>\n",
       "      <td>...</td>\n",
       "      <td>...</td>\n",
       "      <td>...</td>\n",
       "      <td>...</td>\n",
       "      <td>...</td>\n",
       "      <td>...</td>\n",
       "      <td>...</td>\n",
       "      <td>...</td>\n",
       "      <td>...</td>\n",
       "      <td>...</td>\n",
       "      <td>...</td>\n",
       "      <td>...</td>\n",
       "      <td>...</td>\n",
       "      <td>...</td>\n",
       "      <td>...</td>\n",
       "      <td>...</td>\n",
       "      <td>...</td>\n",
       "      <td>...</td>\n",
       "      <td>...</td>\n",
       "    </tr>\n",
       "    <tr>\n",
       "      <th>460494</th>\n",
       "      <td>7212128</td>\n",
       "      <td>2</td>\n",
       "      <td>2</td>\n",
       "      <td>1.0</td>\n",
       "      <td>1.0</td>\n",
       "      <td>redacted</td>\n",
       "      <td>1/29/2013</td>\n",
       "      <td>6:00:00</td>\n",
       "      <td>14:00:00</td>\n",
       "      <td>5.0</td>\n",
       "      <td>...</td>\n",
       "      <td>0.0</td>\n",
       "      <td>redacted</td>\n",
       "      <td>redacted</td>\n",
       "      <td>0.0</td>\n",
       "      <td>NaN</td>\n",
       "      <td>NaN</td>\n",
       "      <td>NaN</td>\n",
       "      <td>NaN</td>\n",
       "      <td>NaN</td>\n",
       "      <td>NaN</td>\n",
       "    </tr>\n",
       "    <tr>\n",
       "      <th>460495</th>\n",
       "      <td>7212128</td>\n",
       "      <td>2</td>\n",
       "      <td>3</td>\n",
       "      <td>1.0</td>\n",
       "      <td>2.0</td>\n",
       "      <td>redacted</td>\n",
       "      <td>1/29/2013</td>\n",
       "      <td>14:00:00</td>\n",
       "      <td>14:00:00</td>\n",
       "      <td>5.0</td>\n",
       "      <td>...</td>\n",
       "      <td>0.0</td>\n",
       "      <td>redacted</td>\n",
       "      <td>redacted</td>\n",
       "      <td>0.0</td>\n",
       "      <td>NaN</td>\n",
       "      <td>NaN</td>\n",
       "      <td>NaN</td>\n",
       "      <td>NaN</td>\n",
       "      <td>NaN</td>\n",
       "      <td>NaN</td>\n",
       "    </tr>\n",
       "    <tr>\n",
       "      <th>460496</th>\n",
       "      <td>7212128</td>\n",
       "      <td>2</td>\n",
       "      <td>4</td>\n",
       "      <td>1.0</td>\n",
       "      <td>3.0</td>\n",
       "      <td>redacted</td>\n",
       "      <td>1/29/2013</td>\n",
       "      <td>15:00:00</td>\n",
       "      <td>15:00:00</td>\n",
       "      <td>5.0</td>\n",
       "      <td>...</td>\n",
       "      <td>0.0</td>\n",
       "      <td>redacted</td>\n",
       "      <td>redacted</td>\n",
       "      <td>0.0</td>\n",
       "      <td>NaN</td>\n",
       "      <td>NaN</td>\n",
       "      <td>NaN</td>\n",
       "      <td>NaN</td>\n",
       "      <td>NaN</td>\n",
       "      <td>NaN</td>\n",
       "    </tr>\n",
       "    <tr>\n",
       "      <th>460497</th>\n",
       "      <td>7212128</td>\n",
       "      <td>2</td>\n",
       "      <td>5</td>\n",
       "      <td>1.0</td>\n",
       "      <td>4.0</td>\n",
       "      <td>redacted</td>\n",
       "      <td>1/29/2013</td>\n",
       "      <td>15:00:00</td>\n",
       "      <td>17:00:00</td>\n",
       "      <td>5.0</td>\n",
       "      <td>...</td>\n",
       "      <td>1.0</td>\n",
       "      <td>redacted</td>\n",
       "      <td>redacted</td>\n",
       "      <td>0.0</td>\n",
       "      <td>NaN</td>\n",
       "      <td>4.0</td>\n",
       "      <td>NaN</td>\n",
       "      <td>NaN</td>\n",
       "      <td>NaN</td>\n",
       "      <td>NaN</td>\n",
       "    </tr>\n",
       "    <tr>\n",
       "      <th>460498</th>\n",
       "      <td>7212128</td>\n",
       "      <td>2</td>\n",
       "      <td>6</td>\n",
       "      <td>1.0</td>\n",
       "      <td>5.0</td>\n",
       "      <td>redacted</td>\n",
       "      <td>1/29/2013</td>\n",
       "      <td>17:00:00</td>\n",
       "      <td>17:00:00</td>\n",
       "      <td>5.0</td>\n",
       "      <td>...</td>\n",
       "      <td>1.0</td>\n",
       "      <td>redacted</td>\n",
       "      <td>redacted</td>\n",
       "      <td>0.0</td>\n",
       "      <td>NaN</td>\n",
       "      <td>4.0</td>\n",
       "      <td>NaN</td>\n",
       "      <td>NaN</td>\n",
       "      <td>NaN</td>\n",
       "      <td>NaN</td>\n",
       "    </tr>\n",
       "    <tr>\n",
       "      <th>460499</th>\n",
       "      <td>7212128</td>\n",
       "      <td>2</td>\n",
       "      <td>7</td>\n",
       "      <td>1.0</td>\n",
       "      <td>6.0</td>\n",
       "      <td>redacted</td>\n",
       "      <td>1/29/2013</td>\n",
       "      <td>17:00:00</td>\n",
       "      <td>18:00:00</td>\n",
       "      <td>5.0</td>\n",
       "      <td>...</td>\n",
       "      <td>0.0</td>\n",
       "      <td>redacted</td>\n",
       "      <td>redacted</td>\n",
       "      <td>0.0</td>\n",
       "      <td>NaN</td>\n",
       "      <td>NaN</td>\n",
       "      <td>NaN</td>\n",
       "      <td>NaN</td>\n",
       "      <td>NaN</td>\n",
       "      <td>NaN</td>\n",
       "    </tr>\n",
       "    <tr>\n",
       "      <th>460500</th>\n",
       "      <td>7212128</td>\n",
       "      <td>2</td>\n",
       "      <td>8</td>\n",
       "      <td>97.0</td>\n",
       "      <td>7.0</td>\n",
       "      <td>redacted</td>\n",
       "      <td>1/29/2013</td>\n",
       "      <td>20:00:00</td>\n",
       "      <td>2:00:00</td>\n",
       "      <td>6.0</td>\n",
       "      <td>...</td>\n",
       "      <td>0.0</td>\n",
       "      <td>redacted</td>\n",
       "      <td>redacted</td>\n",
       "      <td>1.0</td>\n",
       "      <td>NaN</td>\n",
       "      <td>NaN</td>\n",
       "      <td>NaN</td>\n",
       "      <td>NaN</td>\n",
       "      <td>NaN</td>\n",
       "      <td>NaN</td>\n",
       "    </tr>\n",
       "    <tr>\n",
       "      <th>460501</th>\n",
       "      <td>7212128</td>\n",
       "      <td>3</td>\n",
       "      <td>1</td>\n",
       "      <td>NaN</td>\n",
       "      <td>NaN</td>\n",
       "      <td>redacted</td>\n",
       "      <td>1/29/2013</td>\n",
       "      <td>3:00:00</td>\n",
       "      <td>10:00:00</td>\n",
       "      <td>NaN</td>\n",
       "      <td>...</td>\n",
       "      <td>NaN</td>\n",
       "      <td>redacted</td>\n",
       "      <td>redacted</td>\n",
       "      <td>NaN</td>\n",
       "      <td>NaN</td>\n",
       "      <td>NaN</td>\n",
       "      <td>NaN</td>\n",
       "      <td>NaN</td>\n",
       "      <td>NaN</td>\n",
       "      <td>NaN</td>\n",
       "    </tr>\n",
       "    <tr>\n",
       "      <th>460502</th>\n",
       "      <td>7212128</td>\n",
       "      <td>3</td>\n",
       "      <td>2</td>\n",
       "      <td>2.0</td>\n",
       "      <td>1.0</td>\n",
       "      <td>redacted</td>\n",
       "      <td>1/29/2013</td>\n",
       "      <td>10:00:00</td>\n",
       "      <td>11:00:00</td>\n",
       "      <td>5.0</td>\n",
       "      <td>...</td>\n",
       "      <td>0.0</td>\n",
       "      <td>redacted</td>\n",
       "      <td>redacted</td>\n",
       "      <td>0.0</td>\n",
       "      <td>NaN</td>\n",
       "      <td>NaN</td>\n",
       "      <td>NaN</td>\n",
       "      <td>NaN</td>\n",
       "      <td>NaN</td>\n",
       "      <td>NaN</td>\n",
       "    </tr>\n",
       "    <tr>\n",
       "      <th>460503</th>\n",
       "      <td>7212128</td>\n",
       "      <td>3</td>\n",
       "      <td>3</td>\n",
       "      <td>2.0</td>\n",
       "      <td>2.0</td>\n",
       "      <td>redacted</td>\n",
       "      <td>1/29/2013</td>\n",
       "      <td>12:00:00</td>\n",
       "      <td>12:00:00</td>\n",
       "      <td>5.0</td>\n",
       "      <td>...</td>\n",
       "      <td>0.0</td>\n",
       "      <td>redacted</td>\n",
       "      <td>redacted</td>\n",
       "      <td>0.0</td>\n",
       "      <td>NaN</td>\n",
       "      <td>NaN</td>\n",
       "      <td>NaN</td>\n",
       "      <td>NaN</td>\n",
       "      <td>NaN</td>\n",
       "      <td>NaN</td>\n",
       "    </tr>\n",
       "    <tr>\n",
       "      <th>460504</th>\n",
       "      <td>7212128</td>\n",
       "      <td>3</td>\n",
       "      <td>4</td>\n",
       "      <td>2.0</td>\n",
       "      <td>3.0</td>\n",
       "      <td>redacted</td>\n",
       "      <td>1/29/2013</td>\n",
       "      <td>12:00:00</td>\n",
       "      <td>14:00:00</td>\n",
       "      <td>5.0</td>\n",
       "      <td>...</td>\n",
       "      <td>0.0</td>\n",
       "      <td>redacted</td>\n",
       "      <td>redacted</td>\n",
       "      <td>0.0</td>\n",
       "      <td>NaN</td>\n",
       "      <td>NaN</td>\n",
       "      <td>NaN</td>\n",
       "      <td>NaN</td>\n",
       "      <td>NaN</td>\n",
       "      <td>NaN</td>\n",
       "    </tr>\n",
       "    <tr>\n",
       "      <th>460505</th>\n",
       "      <td>7212128</td>\n",
       "      <td>3</td>\n",
       "      <td>5</td>\n",
       "      <td>2.0</td>\n",
       "      <td>4.0</td>\n",
       "      <td>redacted</td>\n",
       "      <td>1/29/2013</td>\n",
       "      <td>14:00:00</td>\n",
       "      <td>2:00:00</td>\n",
       "      <td>5.0</td>\n",
       "      <td>...</td>\n",
       "      <td>0.0</td>\n",
       "      <td>redacted</td>\n",
       "      <td>redacted</td>\n",
       "      <td>0.0</td>\n",
       "      <td>NaN</td>\n",
       "      <td>NaN</td>\n",
       "      <td>NaN</td>\n",
       "      <td>NaN</td>\n",
       "      <td>NaN</td>\n",
       "      <td>NaN</td>\n",
       "    </tr>\n",
       "    <tr>\n",
       "      <th>460506</th>\n",
       "      <td>7212128</td>\n",
       "      <td>4</td>\n",
       "      <td>1</td>\n",
       "      <td>NaN</td>\n",
       "      <td>NaN</td>\n",
       "      <td>redacted</td>\n",
       "      <td>1/29/2013</td>\n",
       "      <td>3:00:00</td>\n",
       "      <td>7:00:00</td>\n",
       "      <td>NaN</td>\n",
       "      <td>...</td>\n",
       "      <td>NaN</td>\n",
       "      <td>redacted</td>\n",
       "      <td>redacted</td>\n",
       "      <td>NaN</td>\n",
       "      <td>NaN</td>\n",
       "      <td>NaN</td>\n",
       "      <td>NaN</td>\n",
       "      <td>NaN</td>\n",
       "      <td>NaN</td>\n",
       "      <td>NaN</td>\n",
       "    </tr>\n",
       "    <tr>\n",
       "      <th>460507</th>\n",
       "      <td>7212128</td>\n",
       "      <td>4</td>\n",
       "      <td>2</td>\n",
       "      <td>3.0</td>\n",
       "      <td>1.0</td>\n",
       "      <td>redacted</td>\n",
       "      <td>1/29/2013</td>\n",
       "      <td>8:00:00</td>\n",
       "      <td>15:00:00</td>\n",
       "      <td>6.0</td>\n",
       "      <td>...</td>\n",
       "      <td>1.0</td>\n",
       "      <td>redacted</td>\n",
       "      <td>redacted</td>\n",
       "      <td>0.0</td>\n",
       "      <td>NaN</td>\n",
       "      <td>1.0</td>\n",
       "      <td>NaN</td>\n",
       "      <td>NaN</td>\n",
       "      <td>NaN</td>\n",
       "      <td>NaN</td>\n",
       "    </tr>\n",
       "    <tr>\n",
       "      <th>460508</th>\n",
       "      <td>7212128</td>\n",
       "      <td>4</td>\n",
       "      <td>3</td>\n",
       "      <td>1.0</td>\n",
       "      <td>2.0</td>\n",
       "      <td>redacted</td>\n",
       "      <td>1/29/2013</td>\n",
       "      <td>15:00:00</td>\n",
       "      <td>17:00:00</td>\n",
       "      <td>6.0</td>\n",
       "      <td>...</td>\n",
       "      <td>1.0</td>\n",
       "      <td>redacted</td>\n",
       "      <td>redacted</td>\n",
       "      <td>0.0</td>\n",
       "      <td>NaN</td>\n",
       "      <td>2.0</td>\n",
       "      <td>NaN</td>\n",
       "      <td>NaN</td>\n",
       "      <td>NaN</td>\n",
       "      <td>NaN</td>\n",
       "    </tr>\n",
       "    <tr>\n",
       "      <th>460509</th>\n",
       "      <td>7212128</td>\n",
       "      <td>4</td>\n",
       "      <td>4</td>\n",
       "      <td>1.0</td>\n",
       "      <td>3.0</td>\n",
       "      <td>redacted</td>\n",
       "      <td>1/29/2013</td>\n",
       "      <td>17:00:00</td>\n",
       "      <td>18:00:00</td>\n",
       "      <td>6.0</td>\n",
       "      <td>...</td>\n",
       "      <td>1.0</td>\n",
       "      <td>redacted</td>\n",
       "      <td>redacted</td>\n",
       "      <td>0.0</td>\n",
       "      <td>NaN</td>\n",
       "      <td>2.0</td>\n",
       "      <td>NaN</td>\n",
       "      <td>NaN</td>\n",
       "      <td>NaN</td>\n",
       "      <td>NaN</td>\n",
       "    </tr>\n",
       "    <tr>\n",
       "      <th>460510</th>\n",
       "      <td>7212128</td>\n",
       "      <td>4</td>\n",
       "      <td>5</td>\n",
       "      <td>3.0</td>\n",
       "      <td>4.0</td>\n",
       "      <td>redacted</td>\n",
       "      <td>1/29/2013</td>\n",
       "      <td>19:00:00</td>\n",
       "      <td>2:00:00</td>\n",
       "      <td>6.0</td>\n",
       "      <td>...</td>\n",
       "      <td>1.0</td>\n",
       "      <td>redacted</td>\n",
       "      <td>redacted</td>\n",
       "      <td>0.0</td>\n",
       "      <td>NaN</td>\n",
       "      <td>1.0</td>\n",
       "      <td>NaN</td>\n",
       "      <td>NaN</td>\n",
       "      <td>NaN</td>\n",
       "      <td>NaN</td>\n",
       "    </tr>\n",
       "    <tr>\n",
       "      <th>460511</th>\n",
       "      <td>7212273</td>\n",
       "      <td>1</td>\n",
       "      <td>1</td>\n",
       "      <td>NaN</td>\n",
       "      <td>NaN</td>\n",
       "      <td>redacted</td>\n",
       "      <td>1/21/2013</td>\n",
       "      <td>3:00:00</td>\n",
       "      <td>2:00:00</td>\n",
       "      <td>NaN</td>\n",
       "      <td>...</td>\n",
       "      <td>NaN</td>\n",
       "      <td>redacted</td>\n",
       "      <td>redacted</td>\n",
       "      <td>NaN</td>\n",
       "      <td>NaN</td>\n",
       "      <td>NaN</td>\n",
       "      <td>NaN</td>\n",
       "      <td>NaN</td>\n",
       "      <td>NaN</td>\n",
       "      <td>NaN</td>\n",
       "    </tr>\n",
       "    <tr>\n",
       "      <th>460512</th>\n",
       "      <td>7212273</td>\n",
       "      <td>2</td>\n",
       "      <td>1</td>\n",
       "      <td>NaN</td>\n",
       "      <td>NaN</td>\n",
       "      <td>redacted</td>\n",
       "      <td>1/21/2013</td>\n",
       "      <td>3:00:00</td>\n",
       "      <td>2:00:00</td>\n",
       "      <td>NaN</td>\n",
       "      <td>...</td>\n",
       "      <td>NaN</td>\n",
       "      <td>redacted</td>\n",
       "      <td>redacted</td>\n",
       "      <td>NaN</td>\n",
       "      <td>NaN</td>\n",
       "      <td>NaN</td>\n",
       "      <td>NaN</td>\n",
       "      <td>NaN</td>\n",
       "      <td>NaN</td>\n",
       "      <td>NaN</td>\n",
       "    </tr>\n",
       "    <tr>\n",
       "      <th>460513</th>\n",
       "      <td>7212324</td>\n",
       "      <td>4</td>\n",
       "      <td>1</td>\n",
       "      <td>NaN</td>\n",
       "      <td>NaN</td>\n",
       "      <td>redacted</td>\n",
       "      <td>1/30/2013</td>\n",
       "      <td>3:00:00</td>\n",
       "      <td>2:00:00</td>\n",
       "      <td>NaN</td>\n",
       "      <td>...</td>\n",
       "      <td>NaN</td>\n",
       "      <td>redacted</td>\n",
       "      <td>redacted</td>\n",
       "      <td>NaN</td>\n",
       "      <td>NaN</td>\n",
       "      <td>NaN</td>\n",
       "      <td>NaN</td>\n",
       "      <td>NaN</td>\n",
       "      <td>NaN</td>\n",
       "      <td>NaN</td>\n",
       "    </tr>\n",
       "    <tr>\n",
       "      <th>460514</th>\n",
       "      <td>7212359</td>\n",
       "      <td>1</td>\n",
       "      <td>1</td>\n",
       "      <td>NaN</td>\n",
       "      <td>NaN</td>\n",
       "      <td>redacted</td>\n",
       "      <td>1/21/2013</td>\n",
       "      <td>3:00:00</td>\n",
       "      <td>12:00:00</td>\n",
       "      <td>NaN</td>\n",
       "      <td>...</td>\n",
       "      <td>NaN</td>\n",
       "      <td>redacted</td>\n",
       "      <td>redacted</td>\n",
       "      <td>NaN</td>\n",
       "      <td>NaN</td>\n",
       "      <td>NaN</td>\n",
       "      <td>NaN</td>\n",
       "      <td>NaN</td>\n",
       "      <td>NaN</td>\n",
       "      <td>NaN</td>\n",
       "    </tr>\n",
       "    <tr>\n",
       "      <th>460515</th>\n",
       "      <td>7212359</td>\n",
       "      <td>1</td>\n",
       "      <td>2</td>\n",
       "      <td>1.0</td>\n",
       "      <td>1.0</td>\n",
       "      <td>redacted</td>\n",
       "      <td>1/21/2013</td>\n",
       "      <td>12:00:00</td>\n",
       "      <td>13:00:00</td>\n",
       "      <td>5.0</td>\n",
       "      <td>...</td>\n",
       "      <td>0.0</td>\n",
       "      <td>redacted</td>\n",
       "      <td>redacted</td>\n",
       "      <td>0.0</td>\n",
       "      <td>NaN</td>\n",
       "      <td>NaN</td>\n",
       "      <td>NaN</td>\n",
       "      <td>NaN</td>\n",
       "      <td>NaN</td>\n",
       "      <td>NaN</td>\n",
       "    </tr>\n",
       "    <tr>\n",
       "      <th>460516</th>\n",
       "      <td>7212359</td>\n",
       "      <td>1</td>\n",
       "      <td>3</td>\n",
       "      <td>1.0</td>\n",
       "      <td>2.0</td>\n",
       "      <td>redacted</td>\n",
       "      <td>1/21/2013</td>\n",
       "      <td>13:00:00</td>\n",
       "      <td>2:00:00</td>\n",
       "      <td>5.0</td>\n",
       "      <td>...</td>\n",
       "      <td>0.0</td>\n",
       "      <td>redacted</td>\n",
       "      <td>redacted</td>\n",
       "      <td>0.0</td>\n",
       "      <td>NaN</td>\n",
       "      <td>NaN</td>\n",
       "      <td>NaN</td>\n",
       "      <td>NaN</td>\n",
       "      <td>NaN</td>\n",
       "      <td>NaN</td>\n",
       "    </tr>\n",
       "    <tr>\n",
       "      <th>460517</th>\n",
       "      <td>7212359</td>\n",
       "      <td>2</td>\n",
       "      <td>1</td>\n",
       "      <td>NaN</td>\n",
       "      <td>NaN</td>\n",
       "      <td>redacted</td>\n",
       "      <td>1/21/2013</td>\n",
       "      <td>3:00:00</td>\n",
       "      <td>13:00:00</td>\n",
       "      <td>NaN</td>\n",
       "      <td>...</td>\n",
       "      <td>NaN</td>\n",
       "      <td>redacted</td>\n",
       "      <td>redacted</td>\n",
       "      <td>NaN</td>\n",
       "      <td>NaN</td>\n",
       "      <td>NaN</td>\n",
       "      <td>NaN</td>\n",
       "      <td>NaN</td>\n",
       "      <td>NaN</td>\n",
       "      <td>NaN</td>\n",
       "    </tr>\n",
       "    <tr>\n",
       "      <th>460518</th>\n",
       "      <td>7212359</td>\n",
       "      <td>2</td>\n",
       "      <td>2</td>\n",
       "      <td>2.0</td>\n",
       "      <td>1.0</td>\n",
       "      <td>redacted</td>\n",
       "      <td>1/21/2013</td>\n",
       "      <td>13:00:00</td>\n",
       "      <td>13:00:00</td>\n",
       "      <td>5.0</td>\n",
       "      <td>...</td>\n",
       "      <td>0.0</td>\n",
       "      <td>redacted</td>\n",
       "      <td>redacted</td>\n",
       "      <td>0.0</td>\n",
       "      <td>NaN</td>\n",
       "      <td>NaN</td>\n",
       "      <td>NaN</td>\n",
       "      <td>NaN</td>\n",
       "      <td>NaN</td>\n",
       "      <td>NaN</td>\n",
       "    </tr>\n",
       "    <tr>\n",
       "      <th>460519</th>\n",
       "      <td>7212359</td>\n",
       "      <td>2</td>\n",
       "      <td>3</td>\n",
       "      <td>2.0</td>\n",
       "      <td>2.0</td>\n",
       "      <td>redacted</td>\n",
       "      <td>1/21/2013</td>\n",
       "      <td>13:00:00</td>\n",
       "      <td>2:00:00</td>\n",
       "      <td>5.0</td>\n",
       "      <td>...</td>\n",
       "      <td>0.0</td>\n",
       "      <td>redacted</td>\n",
       "      <td>redacted</td>\n",
       "      <td>0.0</td>\n",
       "      <td>NaN</td>\n",
       "      <td>NaN</td>\n",
       "      <td>NaN</td>\n",
       "      <td>NaN</td>\n",
       "      <td>NaN</td>\n",
       "      <td>NaN</td>\n",
       "    </tr>\n",
       "    <tr>\n",
       "      <th>460520</th>\n",
       "      <td>7212388</td>\n",
       "      <td>1</td>\n",
       "      <td>1</td>\n",
       "      <td>NaN</td>\n",
       "      <td>NaN</td>\n",
       "      <td>redacted</td>\n",
       "      <td>1/16/2013</td>\n",
       "      <td>3:00:00</td>\n",
       "      <td>7:00:00</td>\n",
       "      <td>NaN</td>\n",
       "      <td>...</td>\n",
       "      <td>NaN</td>\n",
       "      <td>redacted</td>\n",
       "      <td>redacted</td>\n",
       "      <td>NaN</td>\n",
       "      <td>NaN</td>\n",
       "      <td>NaN</td>\n",
       "      <td>NaN</td>\n",
       "      <td>NaN</td>\n",
       "      <td>NaN</td>\n",
       "      <td>NaN</td>\n",
       "    </tr>\n",
       "    <tr>\n",
       "      <th>460521</th>\n",
       "      <td>7212388</td>\n",
       "      <td>1</td>\n",
       "      <td>2</td>\n",
       "      <td>NaN</td>\n",
       "      <td>1.0</td>\n",
       "      <td>redacted</td>\n",
       "      <td>1/16/2013</td>\n",
       "      <td>7:00:00</td>\n",
       "      <td>15:00:00</td>\n",
       "      <td>1.0</td>\n",
       "      <td>...</td>\n",
       "      <td>NaN</td>\n",
       "      <td>redacted</td>\n",
       "      <td>redacted</td>\n",
       "      <td>NaN</td>\n",
       "      <td>NaN</td>\n",
       "      <td>NaN</td>\n",
       "      <td>NaN</td>\n",
       "      <td>NaN</td>\n",
       "      <td>NaN</td>\n",
       "      <td>NaN</td>\n",
       "    </tr>\n",
       "    <tr>\n",
       "      <th>460522</th>\n",
       "      <td>7212388</td>\n",
       "      <td>1</td>\n",
       "      <td>3</td>\n",
       "      <td>NaN</td>\n",
       "      <td>2.0</td>\n",
       "      <td>redacted</td>\n",
       "      <td>1/16/2013</td>\n",
       "      <td>15:00:00</td>\n",
       "      <td>15:00:00</td>\n",
       "      <td>1.0</td>\n",
       "      <td>...</td>\n",
       "      <td>NaN</td>\n",
       "      <td>redacted</td>\n",
       "      <td>redacted</td>\n",
       "      <td>NaN</td>\n",
       "      <td>NaN</td>\n",
       "      <td>NaN</td>\n",
       "      <td>NaN</td>\n",
       "      <td>NaN</td>\n",
       "      <td>NaN</td>\n",
       "      <td>NaN</td>\n",
       "    </tr>\n",
       "    <tr>\n",
       "      <th>460523</th>\n",
       "      <td>7212388</td>\n",
       "      <td>1</td>\n",
       "      <td>4</td>\n",
       "      <td>NaN</td>\n",
       "      <td>3.0</td>\n",
       "      <td>redacted</td>\n",
       "      <td>1/16/2013</td>\n",
       "      <td>15:00:00</td>\n",
       "      <td>2:00:00</td>\n",
       "      <td>1.0</td>\n",
       "      <td>...</td>\n",
       "      <td>NaN</td>\n",
       "      <td>redacted</td>\n",
       "      <td>redacted</td>\n",
       "      <td>NaN</td>\n",
       "      <td>NaN</td>\n",
       "      <td>NaN</td>\n",
       "      <td>NaN</td>\n",
       "      <td>NaN</td>\n",
       "      <td>NaN</td>\n",
       "      <td>NaN</td>\n",
       "    </tr>\n",
       "  </tbody>\n",
       "</table>\n",
       "<p>460524 rows × 53 columns</p>\n",
       "</div>"
      ],
      "text/plain": [
       "         sampno  perno  plano  vehno  tripno place_name travel_date  arr_time  \\\n",
       "0       1031985      1      1    NaN     NaN   redacted    5/1/2012   3:00:00   \n",
       "1       1031985      1      2   97.0     1.0   redacted    5/1/2012   9:00:00   \n",
       "2       1031985      1      3   97.0     2.0   redacted    5/1/2012  13:00:00   \n",
       "3       1031985      2      1    NaN     NaN   redacted    5/1/2012   3:00:00   \n",
       "4       1031985      2      2    1.0     1.0   redacted    5/1/2012   9:00:00   \n",
       "5       1031985      2      3    1.0     2.0   redacted    5/1/2012  10:00:00   \n",
       "6       1032036      1      1    NaN     NaN   redacted   5/12/2012   3:00:00   \n",
       "7       1032036      1      2    1.0     1.0   redacted   5/12/2012   8:00:00   \n",
       "8       1032036      1      3    1.0     2.0   redacted   5/12/2012  15:00:00   \n",
       "9       1032036      1      4    1.0     3.0   redacted   5/12/2012  16:00:00   \n",
       "10      1032036      1      5    1.0     4.0   redacted   5/12/2012  17:00:00   \n",
       "11      1032036      1      6    1.0     5.0   redacted   5/12/2012  19:00:00   \n",
       "12      1032036      2      1    NaN     NaN   redacted   5/12/2012   3:00:00   \n",
       "13      1032036      2      2   97.0     1.0   redacted   5/12/2012   8:00:00   \n",
       "14      1032036      2      3   97.0     2.0   redacted   5/12/2012   9:00:00   \n",
       "15      1032036      2      4   97.0     3.0   redacted   5/12/2012  10:00:00   \n",
       "16      1032036      2      5   97.0     4.0   redacted   5/12/2012  11:00:00   \n",
       "17      1032036      2      6   97.0     5.0   redacted   5/12/2012  11:00:00   \n",
       "18      1032036      2      7   97.0     6.0   redacted   5/12/2012  12:00:00   \n",
       "19      1032036      2      8    1.0     7.0   redacted   5/12/2012  12:00:00   \n",
       "20      1032036      2      9    1.0     8.0   redacted   5/12/2012  12:00:00   \n",
       "21      1032036      2     10    1.0     9.0   redacted   5/12/2012  12:00:00   \n",
       "22      1032036      2     11    1.0    10.0   redacted   5/12/2012  13:00:00   \n",
       "23      1032036      2     12    1.0    11.0   redacted   5/12/2012  15:00:00   \n",
       "24      1032036      2     13    1.0    12.0   redacted   5/12/2012  16:00:00   \n",
       "25      1032036      2     14    1.0    13.0   redacted   5/12/2012  17:00:00   \n",
       "26      1032036      2     15    1.0    14.0   redacted   5/12/2012  19:00:00   \n",
       "27      1032036      2     16   97.0    15.0   redacted   5/12/2012  20:00:00   \n",
       "28      1032036      2     17   97.0    16.0   redacted   5/12/2012  20:00:00   \n",
       "29      1032036      2     18   97.0    17.0   redacted   5/12/2012  21:00:00   \n",
       "...         ...    ...    ...    ...     ...        ...         ...       ...   \n",
       "460494  7212128      2      2    1.0     1.0   redacted   1/29/2013   6:00:00   \n",
       "460495  7212128      2      3    1.0     2.0   redacted   1/29/2013  14:00:00   \n",
       "460496  7212128      2      4    1.0     3.0   redacted   1/29/2013  15:00:00   \n",
       "460497  7212128      2      5    1.0     4.0   redacted   1/29/2013  15:00:00   \n",
       "460498  7212128      2      6    1.0     5.0   redacted   1/29/2013  17:00:00   \n",
       "460499  7212128      2      7    1.0     6.0   redacted   1/29/2013  17:00:00   \n",
       "460500  7212128      2      8   97.0     7.0   redacted   1/29/2013  20:00:00   \n",
       "460501  7212128      3      1    NaN     NaN   redacted   1/29/2013   3:00:00   \n",
       "460502  7212128      3      2    2.0     1.0   redacted   1/29/2013  10:00:00   \n",
       "460503  7212128      3      3    2.0     2.0   redacted   1/29/2013  12:00:00   \n",
       "460504  7212128      3      4    2.0     3.0   redacted   1/29/2013  12:00:00   \n",
       "460505  7212128      3      5    2.0     4.0   redacted   1/29/2013  14:00:00   \n",
       "460506  7212128      4      1    NaN     NaN   redacted   1/29/2013   3:00:00   \n",
       "460507  7212128      4      2    3.0     1.0   redacted   1/29/2013   8:00:00   \n",
       "460508  7212128      4      3    1.0     2.0   redacted   1/29/2013  15:00:00   \n",
       "460509  7212128      4      4    1.0     3.0   redacted   1/29/2013  17:00:00   \n",
       "460510  7212128      4      5    3.0     4.0   redacted   1/29/2013  19:00:00   \n",
       "460511  7212273      1      1    NaN     NaN   redacted   1/21/2013   3:00:00   \n",
       "460512  7212273      2      1    NaN     NaN   redacted   1/21/2013   3:00:00   \n",
       "460513  7212324      4      1    NaN     NaN   redacted   1/30/2013   3:00:00   \n",
       "460514  7212359      1      1    NaN     NaN   redacted   1/21/2013   3:00:00   \n",
       "460515  7212359      1      2    1.0     1.0   redacted   1/21/2013  12:00:00   \n",
       "460516  7212359      1      3    1.0     2.0   redacted   1/21/2013  13:00:00   \n",
       "460517  7212359      2      1    NaN     NaN   redacted   1/21/2013   3:00:00   \n",
       "460518  7212359      2      2    2.0     1.0   redacted   1/21/2013  13:00:00   \n",
       "460519  7212359      2      3    2.0     2.0   redacted   1/21/2013  13:00:00   \n",
       "460520  7212388      1      1    NaN     NaN   redacted   1/16/2013   3:00:00   \n",
       "460521  7212388      1      2    NaN     1.0   redacted   1/16/2013   7:00:00   \n",
       "460522  7212388      1      3    NaN     2.0   redacted   1/16/2013  15:00:00   \n",
       "460523  7212388      1      4    NaN     3.0   redacted   1/16/2013  15:00:00   \n",
       "\n",
       "        dep_time  mode  ...   hhmem       lon       lat  non_hh_members  \\\n",
       "0        8:00:00   NaN  ...     NaN  redacted  redacted             NaN   \n",
       "1       12:00:00   6.0  ...     0.0  redacted  redacted             1.0   \n",
       "2        2:00:00   6.0  ...     0.0  redacted  redacted             1.0   \n",
       "3        9:00:00   NaN  ...     NaN  redacted  redacted             NaN   \n",
       "4       10:00:00   5.0  ...     0.0  redacted  redacted             0.0   \n",
       "5        2:00:00   5.0  ...     0.0  redacted  redacted             0.0   \n",
       "6        8:00:00   NaN  ...     NaN  redacted  redacted             NaN   \n",
       "7       15:00:00   5.0  ...     2.0  redacted  redacted             0.0   \n",
       "8       16:00:00   5.0  ...     4.0  redacted  redacted             0.0   \n",
       "9       17:00:00   5.0  ...     1.0  redacted  redacted             0.0   \n",
       "10      18:00:00   5.0  ...     1.0  redacted  redacted             0.0   \n",
       "11       2:00:00   5.0  ...     1.0  redacted  redacted             0.0   \n",
       "12       8:00:00   NaN  ...     NaN  redacted  redacted             NaN   \n",
       "13       9:00:00   6.0  ...     0.0  redacted  redacted             1.0   \n",
       "14      10:00:00   6.0  ...     0.0  redacted  redacted             1.0   \n",
       "15      11:00:00   6.0  ...     0.0  redacted  redacted             1.0   \n",
       "16      11:00:00   6.0  ...     1.0  redacted  redacted             1.0   \n",
       "17      11:00:00   6.0  ...     1.0  redacted  redacted             1.0   \n",
       "18      12:00:00   6.0  ...     1.0  redacted  redacted             1.0   \n",
       "19      12:00:00   5.0  ...     0.0  redacted  redacted             0.0   \n",
       "20      12:00:00   5.0  ...     0.0  redacted  redacted             0.0   \n",
       "21      13:00:00   5.0  ...     0.0  redacted  redacted             0.0   \n",
       "22      15:00:00   5.0  ...     0.0  redacted  redacted             0.0   \n",
       "23      16:00:00   6.0  ...     4.0  redacted  redacted             0.0   \n",
       "24      17:00:00   6.0  ...     1.0  redacted  redacted             0.0   \n",
       "25      18:00:00   6.0  ...     1.0  redacted  redacted             0.0   \n",
       "26      20:00:00   6.0  ...     1.0  redacted  redacted             0.0   \n",
       "27      20:00:00   5.0  ...     0.0  redacted  redacted             0.0   \n",
       "28      20:00:00   6.0  ...     0.0  redacted  redacted             1.0   \n",
       "29      21:00:00   6.0  ...     0.0  redacted  redacted             1.0   \n",
       "...          ...   ...  ...     ...       ...       ...             ...   \n",
       "460494  14:00:00   5.0  ...     0.0  redacted  redacted             0.0   \n",
       "460495  14:00:00   5.0  ...     0.0  redacted  redacted             0.0   \n",
       "460496  15:00:00   5.0  ...     0.0  redacted  redacted             0.0   \n",
       "460497  17:00:00   5.0  ...     1.0  redacted  redacted             0.0   \n",
       "460498  17:00:00   5.0  ...     1.0  redacted  redacted             0.0   \n",
       "460499  18:00:00   5.0  ...     0.0  redacted  redacted             0.0   \n",
       "460500   2:00:00   6.0  ...     0.0  redacted  redacted             1.0   \n",
       "460501  10:00:00   NaN  ...     NaN  redacted  redacted             NaN   \n",
       "460502  11:00:00   5.0  ...     0.0  redacted  redacted             0.0   \n",
       "460503  12:00:00   5.0  ...     0.0  redacted  redacted             0.0   \n",
       "460504  14:00:00   5.0  ...     0.0  redacted  redacted             0.0   \n",
       "460505   2:00:00   5.0  ...     0.0  redacted  redacted             0.0   \n",
       "460506   7:00:00   NaN  ...     NaN  redacted  redacted             NaN   \n",
       "460507  15:00:00   6.0  ...     1.0  redacted  redacted             0.0   \n",
       "460508  17:00:00   6.0  ...     1.0  redacted  redacted             0.0   \n",
       "460509  18:00:00   6.0  ...     1.0  redacted  redacted             0.0   \n",
       "460510   2:00:00   6.0  ...     1.0  redacted  redacted             0.0   \n",
       "460511   2:00:00   NaN  ...     NaN  redacted  redacted             NaN   \n",
       "460512   2:00:00   NaN  ...     NaN  redacted  redacted             NaN   \n",
       "460513   2:00:00   NaN  ...     NaN  redacted  redacted             NaN   \n",
       "460514  12:00:00   NaN  ...     NaN  redacted  redacted             NaN   \n",
       "460515  13:00:00   5.0  ...     0.0  redacted  redacted             0.0   \n",
       "460516   2:00:00   5.0  ...     0.0  redacted  redacted             0.0   \n",
       "460517  13:00:00   NaN  ...     NaN  redacted  redacted             NaN   \n",
       "460518  13:00:00   5.0  ...     0.0  redacted  redacted             0.0   \n",
       "460519   2:00:00   5.0  ...     0.0  redacted  redacted             0.0   \n",
       "460520   7:00:00   NaN  ...     NaN  redacted  redacted             NaN   \n",
       "460521  15:00:00   1.0  ...     NaN  redacted  redacted             NaN   \n",
       "460522  15:00:00   1.0  ...     NaN  redacted  redacted             NaN   \n",
       "460523   2:00:00   1.0  ...     NaN  redacted  redacted             NaN   \n",
       "\n",
       "        route  per1 per2 per3  per4  per5  \n",
       "0         NaN   NaN  NaN  NaN   NaN   NaN  \n",
       "1         NaN   NaN  NaN  NaN   NaN   NaN  \n",
       "2         NaN   NaN  NaN  NaN   NaN   NaN  \n",
       "3         NaN   NaN  NaN  NaN   NaN   NaN  \n",
       "4         NaN   NaN  NaN  NaN   NaN   NaN  \n",
       "5         NaN   NaN  NaN  NaN   NaN   NaN  \n",
       "6         NaN   NaN  NaN  NaN   NaN   NaN  \n",
       "7         NaN   4.0  5.0  NaN   NaN   NaN  \n",
       "8         NaN   2.0  3.0  4.0   5.0   NaN  \n",
       "9         NaN   2.0  NaN  NaN   NaN   NaN  \n",
       "10        NaN   2.0  NaN  NaN   NaN   NaN  \n",
       "11        NaN   2.0  NaN  NaN   NaN   NaN  \n",
       "12        NaN   NaN  NaN  NaN   NaN   NaN  \n",
       "13        NaN   NaN  NaN  NaN   NaN   NaN  \n",
       "14        NaN   NaN  NaN  NaN   NaN   NaN  \n",
       "15        NaN   NaN  NaN  NaN   NaN   NaN  \n",
       "16        NaN   3.0  NaN  NaN   NaN   NaN  \n",
       "17        NaN   3.0  NaN  NaN   NaN   NaN  \n",
       "18        NaN   3.0  NaN  NaN   NaN   NaN  \n",
       "19        NaN   NaN  NaN  NaN   NaN   NaN  \n",
       "20        NaN   NaN  NaN  NaN   NaN   NaN  \n",
       "21        NaN   NaN  NaN  NaN   NaN   NaN  \n",
       "22        NaN   NaN  NaN  NaN   NaN   NaN  \n",
       "23        NaN   1.0  3.0  4.0   5.0   NaN  \n",
       "24        NaN   1.0  NaN  NaN   NaN   NaN  \n",
       "25        NaN   1.0  NaN  NaN   NaN   NaN  \n",
       "26        NaN   1.0  NaN  NaN   NaN   NaN  \n",
       "27        NaN   NaN  NaN  NaN   NaN   NaN  \n",
       "28        NaN   NaN  NaN  NaN   NaN   NaN  \n",
       "29        NaN   NaN  NaN  NaN   NaN   NaN  \n",
       "...       ...   ...  ...  ...   ...   ...  \n",
       "460494    NaN   NaN  NaN  NaN   NaN   NaN  \n",
       "460495    NaN   NaN  NaN  NaN   NaN   NaN  \n",
       "460496    NaN   NaN  NaN  NaN   NaN   NaN  \n",
       "460497    NaN   4.0  NaN  NaN   NaN   NaN  \n",
       "460498    NaN   4.0  NaN  NaN   NaN   NaN  \n",
       "460499    NaN   NaN  NaN  NaN   NaN   NaN  \n",
       "460500    NaN   NaN  NaN  NaN   NaN   NaN  \n",
       "460501    NaN   NaN  NaN  NaN   NaN   NaN  \n",
       "460502    NaN   NaN  NaN  NaN   NaN   NaN  \n",
       "460503    NaN   NaN  NaN  NaN   NaN   NaN  \n",
       "460504    NaN   NaN  NaN  NaN   NaN   NaN  \n",
       "460505    NaN   NaN  NaN  NaN   NaN   NaN  \n",
       "460506    NaN   NaN  NaN  NaN   NaN   NaN  \n",
       "460507    NaN   1.0  NaN  NaN   NaN   NaN  \n",
       "460508    NaN   2.0  NaN  NaN   NaN   NaN  \n",
       "460509    NaN   2.0  NaN  NaN   NaN   NaN  \n",
       "460510    NaN   1.0  NaN  NaN   NaN   NaN  \n",
       "460511    NaN   NaN  NaN  NaN   NaN   NaN  \n",
       "460512    NaN   NaN  NaN  NaN   NaN   NaN  \n",
       "460513    NaN   NaN  NaN  NaN   NaN   NaN  \n",
       "460514    NaN   NaN  NaN  NaN   NaN   NaN  \n",
       "460515    NaN   NaN  NaN  NaN   NaN   NaN  \n",
       "460516    NaN   NaN  NaN  NaN   NaN   NaN  \n",
       "460517    NaN   NaN  NaN  NaN   NaN   NaN  \n",
       "460518    NaN   NaN  NaN  NaN   NaN   NaN  \n",
       "460519    NaN   NaN  NaN  NaN   NaN   NaN  \n",
       "460520    NaN   NaN  NaN  NaN   NaN   NaN  \n",
       "460521    NaN   NaN  NaN  NaN   NaN   NaN  \n",
       "460522    NaN   NaN  NaN  NaN   NaN   NaN  \n",
       "460523    NaN   NaN  NaN  NaN   NaN   NaN  \n",
       "\n",
       "[460524 rows x 53 columns]"
      ]
     },
     "execution_count": 41,
     "metadata": {},
     "output_type": "execute_result"
    }
   ],
   "source": [
    "# In a notebook, you can run the name of the DataFrame to look at it:\n",
    "places\n",
    "\n",
    "# Try running the head() method to look at the first five rows. \n",
    "# You can also try head(10) to look at the first 10 rows\n",
    "# places.head()"
   ]
  },
  {
   "cell_type": "code",
   "execution_count": 42,
   "metadata": {
    "collapsed": false
   },
   "outputs": [
    {
     "name": "stdout",
     "output_type": "stream",
     "text": [
      "460524\n"
     ]
    }
   ],
   "source": [
    "# How many rows? \n",
    "print len(places)\n",
    "\n",
    "# Also try the .shape attribute to see how many rows and columns there are\n",
    "# places.shape"
   ]
  },
  {
   "cell_type": "code",
   "execution_count": 43,
   "metadata": {
    "collapsed": true
   },
   "outputs": [],
   "source": [
    "# There are a ton of columns here! Can we subset to ones we're interested in?\n",
    "\n",
    "columns_of_interest = ['sampno','perno','plano','tottr','hhmem','mode','vehno','trip_distance_miles']"
   ]
  },
  {
   "cell_type": "markdown",
   "metadata": {},
   "source": [
    "Subset the DataFrame by passing a list:"
   ]
  },
  {
   "cell_type": "code",
   "execution_count": null,
   "metadata": {
    "collapsed": true
   },
   "outputs": [],
   "source": [
    "places[columns_of_interest]\n",
    "\n",
    "# Equivalent to the below\n",
    "# places[['sampno','perno','plano','tottr','hhmem','mode','vehno','trip_distance_miles']]"
   ]
  },
  {
   "cell_type": "code",
   "execution_count": 44,
   "metadata": {
    "collapsed": false
   },
   "outputs": [],
   "source": [
    "# We did not actually assign the new DataFrame to any variable name above. \n",
    "\n",
    "places_subset = places[columns_of_interest]"
   ]
  },
  {
   "cell_type": "code",
   "execution_count": 45,
   "metadata": {
    "collapsed": false
   },
   "outputs": [
    {
     "data": {
      "text/html": [
       "<div>\n",
       "<table border=\"1\" class=\"dataframe\">\n",
       "  <thead>\n",
       "    <tr style=\"text-align: right;\">\n",
       "      <th></th>\n",
       "      <th>sampno</th>\n",
       "      <th>perno</th>\n",
       "      <th>plano</th>\n",
       "      <th>tottr</th>\n",
       "      <th>hhmem</th>\n",
       "      <th>mode</th>\n",
       "      <th>vehno</th>\n",
       "      <th>trip_distance_miles</th>\n",
       "    </tr>\n",
       "  </thead>\n",
       "  <tbody>\n",
       "    <tr>\n",
       "      <th>0</th>\n",
       "      <td>1031985</td>\n",
       "      <td>1</td>\n",
       "      <td>1</td>\n",
       "      <td>NaN</td>\n",
       "      <td>NaN</td>\n",
       "      <td>NaN</td>\n",
       "      <td>NaN</td>\n",
       "      <td>NaN</td>\n",
       "    </tr>\n",
       "    <tr>\n",
       "      <th>1</th>\n",
       "      <td>1031985</td>\n",
       "      <td>1</td>\n",
       "      <td>2</td>\n",
       "      <td>2.0</td>\n",
       "      <td>0.0</td>\n",
       "      <td>6.0</td>\n",
       "      <td>97.0</td>\n",
       "      <td>13.428271</td>\n",
       "    </tr>\n",
       "    <tr>\n",
       "      <th>2</th>\n",
       "      <td>1031985</td>\n",
       "      <td>1</td>\n",
       "      <td>3</td>\n",
       "      <td>2.0</td>\n",
       "      <td>0.0</td>\n",
       "      <td>6.0</td>\n",
       "      <td>97.0</td>\n",
       "      <td>12.975526</td>\n",
       "    </tr>\n",
       "    <tr>\n",
       "      <th>3</th>\n",
       "      <td>1031985</td>\n",
       "      <td>2</td>\n",
       "      <td>1</td>\n",
       "      <td>NaN</td>\n",
       "      <td>NaN</td>\n",
       "      <td>NaN</td>\n",
       "      <td>NaN</td>\n",
       "      <td>NaN</td>\n",
       "    </tr>\n",
       "    <tr>\n",
       "      <th>4</th>\n",
       "      <td>1031985</td>\n",
       "      <td>2</td>\n",
       "      <td>2</td>\n",
       "      <td>1.0</td>\n",
       "      <td>0.0</td>\n",
       "      <td>5.0</td>\n",
       "      <td>1.0</td>\n",
       "      <td>5.125960</td>\n",
       "    </tr>\n",
       "  </tbody>\n",
       "</table>\n",
       "</div>"
      ],
      "text/plain": [
       "    sampno  perno  plano  tottr  hhmem  mode  vehno  trip_distance_miles\n",
       "0  1031985      1      1    NaN    NaN   NaN    NaN                  NaN\n",
       "1  1031985      1      2    2.0    0.0   6.0   97.0            13.428271\n",
       "2  1031985      1      3    2.0    0.0   6.0   97.0            12.975526\n",
       "3  1031985      2      1    NaN    NaN   NaN    NaN                  NaN\n",
       "4  1031985      2      2    1.0    0.0   5.0    1.0             5.125960"
      ]
     },
     "execution_count": 45,
     "metadata": {},
     "output_type": "execute_result"
    }
   ],
   "source": [
    "places_subset.head()"
   ]
  },
  {
   "cell_type": "markdown",
   "metadata": {},
   "source": [
    "Two ways to look at one column:"
   ]
  },
  {
   "cell_type": "code",
   "execution_count": 49,
   "metadata": {
    "collapsed": false
   },
   "outputs": [
    {
     "data": {
      "text/plain": [
       "0          NaN\n",
       "1    13.428271\n",
       "2    12.975526\n",
       "3          NaN\n",
       "4     5.125960\n",
       "Name: trip_distance_miles, dtype: float64"
      ]
     },
     "execution_count": 49,
     "metadata": {},
     "output_type": "execute_result"
    }
   ],
   "source": [
    "# Dot notation\n",
    "places_subset.trip_distance_miles.head()"
   ]
  },
  {
   "cell_type": "code",
   "execution_count": 50,
   "metadata": {
    "collapsed": false
   },
   "outputs": [
    {
     "data": {
      "text/plain": [
       "0          NaN\n",
       "1    13.428271\n",
       "2    12.975526\n",
       "3          NaN\n",
       "4     5.125960\n",
       "Name: trip_distance_miles, dtype: float64"
      ]
     },
     "execution_count": 50,
     "metadata": {},
     "output_type": "execute_result"
    }
   ],
   "source": [
    "# Bracket notation\n",
    "places_subset['trip_distance_miles'].head()"
   ]
  },
  {
   "cell_type": "markdown",
   "metadata": {},
   "source": [
    "### Differences in trip distances\n",
    "\n",
    "Is the average trip taken by Oakland residents longer or shorter than the average trip taken by Berkeley residents?\n",
    "\n",
    "*Note: This is an oversimplified analysis for example purposes that doesn't take into account weights, trip purposes or modes, etc.*"
   ]
  },
  {
   "cell_type": "code",
   "execution_count": 52,
   "metadata": {
    "collapsed": false
   },
   "outputs": [
    {
     "data": {
      "text/html": [
       "<div>\n",
       "<table border=\"1\" class=\"dataframe\">\n",
       "  <thead>\n",
       "    <tr style=\"text-align: right;\">\n",
       "      <th></th>\n",
       "      <th>sampno</th>\n",
       "      <th>perno</th>\n",
       "      <th>plano</th>\n",
       "      <th>tottr</th>\n",
       "      <th>hhmem</th>\n",
       "      <th>mode</th>\n",
       "      <th>vehno</th>\n",
       "      <th>trip_distance_miles</th>\n",
       "    </tr>\n",
       "  </thead>\n",
       "  <tbody>\n",
       "    <tr>\n",
       "      <th>0</th>\n",
       "      <td>1031985</td>\n",
       "      <td>1</td>\n",
       "      <td>1</td>\n",
       "      <td>NaN</td>\n",
       "      <td>NaN</td>\n",
       "      <td>NaN</td>\n",
       "      <td>NaN</td>\n",
       "      <td>NaN</td>\n",
       "    </tr>\n",
       "    <tr>\n",
       "      <th>1</th>\n",
       "      <td>1031985</td>\n",
       "      <td>1</td>\n",
       "      <td>2</td>\n",
       "      <td>2.0</td>\n",
       "      <td>0.0</td>\n",
       "      <td>6.0</td>\n",
       "      <td>97.0</td>\n",
       "      <td>13.428271</td>\n",
       "    </tr>\n",
       "    <tr>\n",
       "      <th>2</th>\n",
       "      <td>1031985</td>\n",
       "      <td>1</td>\n",
       "      <td>3</td>\n",
       "      <td>2.0</td>\n",
       "      <td>0.0</td>\n",
       "      <td>6.0</td>\n",
       "      <td>97.0</td>\n",
       "      <td>12.975526</td>\n",
       "    </tr>\n",
       "    <tr>\n",
       "      <th>3</th>\n",
       "      <td>1031985</td>\n",
       "      <td>2</td>\n",
       "      <td>1</td>\n",
       "      <td>NaN</td>\n",
       "      <td>NaN</td>\n",
       "      <td>NaN</td>\n",
       "      <td>NaN</td>\n",
       "      <td>NaN</td>\n",
       "    </tr>\n",
       "    <tr>\n",
       "      <th>4</th>\n",
       "      <td>1031985</td>\n",
       "      <td>2</td>\n",
       "      <td>2</td>\n",
       "      <td>1.0</td>\n",
       "      <td>0.0</td>\n",
       "      <td>5.0</td>\n",
       "      <td>1.0</td>\n",
       "      <td>5.125960</td>\n",
       "    </tr>\n",
       "  </tbody>\n",
       "</table>\n",
       "</div>"
      ],
      "text/plain": [
       "    sampno  perno  plano  tottr  hhmem  mode  vehno  trip_distance_miles\n",
       "0  1031985      1      1    NaN    NaN   NaN    NaN                  NaN\n",
       "1  1031985      1      2    2.0    0.0   6.0   97.0            13.428271\n",
       "2  1031985      1      3    2.0    0.0   6.0   97.0            12.975526\n",
       "3  1031985      2      1    NaN    NaN   NaN    NaN                  NaN\n",
       "4  1031985      2      2    1.0    0.0   5.0    1.0             5.125960"
      ]
     },
     "execution_count": 52,
     "metadata": {},
     "output_type": "execute_result"
    }
   ],
   "source": [
    "# We have trip distance data, but not home city\n",
    "\n",
    "places_subset.head()"
   ]
  },
  {
   "cell_type": "code",
   "execution_count": 46,
   "metadata": {
    "collapsed": false
   },
   "outputs": [],
   "source": [
    "# Let's pull in the households data as well\n",
    "# This time I use some of the optional parameters in the read_csv method to grab certain columns\n",
    "# Also set a certain column as the index\n",
    "\n",
    "households = pd.read_csv('survey_households.csv', \n",
    "                         index_col='sampno', \n",
    "                         usecols=['sampno','home_city','home_county_id','mpo_sample'])"
   ]
  },
  {
   "cell_type": "code",
   "execution_count": 47,
   "metadata": {
    "collapsed": false
   },
   "outputs": [
    {
     "data": {
      "text/html": [
       "<div>\n",
       "<table border=\"1\" class=\"dataframe\">\n",
       "  <thead>\n",
       "    <tr style=\"text-align: right;\">\n",
       "      <th></th>\n",
       "      <th>home_county_id</th>\n",
       "      <th>home_city</th>\n",
       "      <th>mpo_sample</th>\n",
       "    </tr>\n",
       "    <tr>\n",
       "      <th>sampno</th>\n",
       "      <th></th>\n",
       "      <th></th>\n",
       "      <th></th>\n",
       "    </tr>\n",
       "  </thead>\n",
       "  <tbody>\n",
       "    <tr>\n",
       "      <th>2973777</th>\n",
       "      <td>53.0</td>\n",
       "      <td>SALINAS</td>\n",
       "      <td>3.0</td>\n",
       "    </tr>\n",
       "    <tr>\n",
       "      <th>2973814</th>\n",
       "      <td>53.0</td>\n",
       "      <td>SALINAS</td>\n",
       "      <td>3.0</td>\n",
       "    </tr>\n",
       "    <tr>\n",
       "      <th>2973902</th>\n",
       "      <td>53.0</td>\n",
       "      <td>SALINAS</td>\n",
       "      <td>3.0</td>\n",
       "    </tr>\n",
       "    <tr>\n",
       "      <th>2974182</th>\n",
       "      <td>53.0</td>\n",
       "      <td>SALINAS</td>\n",
       "      <td>3.0</td>\n",
       "    </tr>\n",
       "    <tr>\n",
       "      <th>2976556</th>\n",
       "      <td>53.0</td>\n",
       "      <td>SALINAS</td>\n",
       "      <td>3.0</td>\n",
       "    </tr>\n",
       "  </tbody>\n",
       "</table>\n",
       "</div>"
      ],
      "text/plain": [
       "         home_county_id home_city  mpo_sample\n",
       "sampno                                       \n",
       "2973777            53.0   SALINAS         3.0\n",
       "2973814            53.0   SALINAS         3.0\n",
       "2973902            53.0   SALINAS         3.0\n",
       "2974182            53.0   SALINAS         3.0\n",
       "2976556            53.0   SALINAS         3.0"
      ]
     },
     "execution_count": 47,
     "metadata": {},
     "output_type": "execute_result"
    }
   ],
   "source": [
    "households.head()"
   ]
  },
  {
   "cell_type": "code",
   "execution_count": 55,
   "metadata": {
    "collapsed": false
   },
   "outputs": [
    {
     "data": {
      "text/html": [
       "<div>\n",
       "<table border=\"1\" class=\"dataframe\">\n",
       "  <thead>\n",
       "    <tr style=\"text-align: right;\">\n",
       "      <th></th>\n",
       "      <th>sampno</th>\n",
       "      <th>perno</th>\n",
       "      <th>plano</th>\n",
       "      <th>tottr</th>\n",
       "      <th>hhmem</th>\n",
       "      <th>mode</th>\n",
       "      <th>vehno</th>\n",
       "      <th>trip_distance_miles</th>\n",
       "      <th>home_county_id</th>\n",
       "      <th>home_city</th>\n",
       "      <th>mpo_sample</th>\n",
       "    </tr>\n",
       "  </thead>\n",
       "  <tbody>\n",
       "    <tr>\n",
       "      <th>0</th>\n",
       "      <td>1031985</td>\n",
       "      <td>1</td>\n",
       "      <td>1</td>\n",
       "      <td>NaN</td>\n",
       "      <td>NaN</td>\n",
       "      <td>NaN</td>\n",
       "      <td>NaN</td>\n",
       "      <td>NaN</td>\n",
       "      <td>95.0</td>\n",
       "      <td>VALLEJO</td>\n",
       "      <td>22.0</td>\n",
       "    </tr>\n",
       "    <tr>\n",
       "      <th>1</th>\n",
       "      <td>1031985</td>\n",
       "      <td>1</td>\n",
       "      <td>2</td>\n",
       "      <td>2.0</td>\n",
       "      <td>0.0</td>\n",
       "      <td>6.0</td>\n",
       "      <td>97.0</td>\n",
       "      <td>13.428271</td>\n",
       "      <td>95.0</td>\n",
       "      <td>VALLEJO</td>\n",
       "      <td>22.0</td>\n",
       "    </tr>\n",
       "    <tr>\n",
       "      <th>2</th>\n",
       "      <td>1031985</td>\n",
       "      <td>1</td>\n",
       "      <td>3</td>\n",
       "      <td>2.0</td>\n",
       "      <td>0.0</td>\n",
       "      <td>6.0</td>\n",
       "      <td>97.0</td>\n",
       "      <td>12.975526</td>\n",
       "      <td>95.0</td>\n",
       "      <td>VALLEJO</td>\n",
       "      <td>22.0</td>\n",
       "    </tr>\n",
       "    <tr>\n",
       "      <th>3</th>\n",
       "      <td>1031985</td>\n",
       "      <td>2</td>\n",
       "      <td>1</td>\n",
       "      <td>NaN</td>\n",
       "      <td>NaN</td>\n",
       "      <td>NaN</td>\n",
       "      <td>NaN</td>\n",
       "      <td>NaN</td>\n",
       "      <td>95.0</td>\n",
       "      <td>VALLEJO</td>\n",
       "      <td>22.0</td>\n",
       "    </tr>\n",
       "    <tr>\n",
       "      <th>4</th>\n",
       "      <td>1031985</td>\n",
       "      <td>2</td>\n",
       "      <td>2</td>\n",
       "      <td>1.0</td>\n",
       "      <td>0.0</td>\n",
       "      <td>5.0</td>\n",
       "      <td>1.0</td>\n",
       "      <td>5.125960</td>\n",
       "      <td>95.0</td>\n",
       "      <td>VALLEJO</td>\n",
       "      <td>22.0</td>\n",
       "    </tr>\n",
       "  </tbody>\n",
       "</table>\n",
       "</div>"
      ],
      "text/plain": [
       "    sampno  perno  plano  tottr  hhmem  mode  vehno  trip_distance_miles  \\\n",
       "0  1031985      1      1    NaN    NaN   NaN    NaN                  NaN   \n",
       "1  1031985      1      2    2.0    0.0   6.0   97.0            13.428271   \n",
       "2  1031985      1      3    2.0    0.0   6.0   97.0            12.975526   \n",
       "3  1031985      2      1    NaN    NaN   NaN    NaN                  NaN   \n",
       "4  1031985      2      2    1.0    0.0   5.0    1.0             5.125960   \n",
       "\n",
       "   home_county_id home_city  mpo_sample  \n",
       "0            95.0   VALLEJO        22.0  \n",
       "1            95.0   VALLEJO        22.0  \n",
       "2            95.0   VALLEJO        22.0  \n",
       "3            95.0   VALLEJO        22.0  \n",
       "4            95.0   VALLEJO        22.0  "
      ]
     },
     "execution_count": 55,
     "metadata": {},
     "output_type": "execute_result"
    }
   ],
   "source": [
    "# Let's merge these two DataFrames using the sampno variable as the key to join on\n",
    "\n",
    "places_subset = places_subset.merge(right=households, how='left', left_on='sampno', right_index='True')\n",
    "places_subset.head()"
   ]
  },
  {
   "cell_type": "code",
   "execution_count": 62,
   "metadata": {
    "collapsed": true
   },
   "outputs": [],
   "source": [
    "# For the t-test later on, we need to drop rows with NaN (not a number)\n",
    "\n",
    "places_subset = places_subset.dropna()"
   ]
  },
  {
   "cell_type": "code",
   "execution_count": 63,
   "metadata": {
    "collapsed": false
   },
   "outputs": [
    {
     "data": {
      "text/plain": [
       "LOS ANGELES               10399\n",
       "SAN JOSE                   7864\n",
       "BAKERSFIELD                5795\n",
       "SAN DIEGO                  4568\n",
       "SAN FRANCISCO              4446\n",
       "FRESNO                     4358\n",
       "SACRAMENTO                 3003\n",
       "RIVERSIDE                  2731\n",
       "SALINAS                    2673\n",
       "OAKLAND                    2397\n",
       "STOCKTON                   2357\n",
       "SANTA ROSA                 2246\n",
       "LONG BEACH                 2152\n",
       "VISALIA                    2105\n",
       "SUNNYVALE                  1771\n",
       "SANTA CRUZ                 1737\n",
       "HOLLISTER                  1672\n",
       "PALO ALTO                  1671\n",
       "VENTURA                    1644\n",
       "MODESTO                    1625\n",
       "PASADENA                   1594\n",
       "NAPA                       1538\n",
       "FREMONT                    1509\n",
       "CLOVIS                     1447\n",
       "IRVINE                     1419\n",
       "MERCED                     1417\n",
       "SAN MATEO                  1415\n",
       "RANCHO CUCAMONGA           1411\n",
       "HUNTINGTON BEACH           1403\n",
       "SIMI VALLEY                1393\n",
       "                          ...  \n",
       "CASPAR                        3\n",
       "CALIFORNIA HOT SPRINGS        2\n",
       "WOODY                         2\n",
       "BIG RIVER                     2\n",
       "DOLLAR POINT                  2\n",
       "BALLICO                       2\n",
       "SANTA ELENA                   2\n",
       "WEIMAR                        2\n",
       "LAKE OF THE WOODS             2\n",
       "WISHON                        2\n",
       "CALLAHAN                      2\n",
       "COLLEGE CITY                  2\n",
       "MORE PARK                     2\n",
       "PALOMAR MOUNTAIN              2\n",
       "LOLETA                        2\n",
       "MYERS FLAT                    2\n",
       "OAKHILLS                      2\n",
       "YORKVILLE                     2\n",
       "CAPISTRANO BEACH              2\n",
       "BRADBURY                      2\n",
       "PLAYA VISTA                   2\n",
       "LAKEHEAD                      2\n",
       "RIPLEY                        2\n",
       "WEST SIDE                     2\n",
       "FORBESTOWN                    2\n",
       "LAKE ALMANOR                  2\n",
       "CHUALAR                       2\n",
       "CRESCENT MILLS                2\n",
       "CAPO BEACH                    1\n",
       "RICHGROVE                     1\n",
       "Name: home_city, dtype: int64"
      ]
     },
     "execution_count": 63,
     "metadata": {},
     "output_type": "execute_result"
    }
   ],
   "source": [
    "# Use the value_counts() method to look at unique values and counts:\n",
    "\n",
    "places_subset.home_city.value_counts()"
   ]
  },
  {
   "cell_type": "code",
   "execution_count": 73,
   "metadata": {
    "collapsed": false
   },
   "outputs": [
    {
     "data": {
      "text/html": [
       "<div>\n",
       "<table border=\"1\" class=\"dataframe\">\n",
       "  <thead>\n",
       "    <tr style=\"text-align: right;\">\n",
       "      <th></th>\n",
       "      <th>sampno</th>\n",
       "      <th>perno</th>\n",
       "      <th>plano</th>\n",
       "      <th>tottr</th>\n",
       "      <th>hhmem</th>\n",
       "      <th>mode</th>\n",
       "      <th>vehno</th>\n",
       "      <th>trip_distance_miles</th>\n",
       "      <th>home_county_id</th>\n",
       "      <th>home_city</th>\n",
       "      <th>mpo_sample</th>\n",
       "    </tr>\n",
       "  </thead>\n",
       "  <tbody>\n",
       "    <tr>\n",
       "      <th>242</th>\n",
       "      <td>1038428</td>\n",
       "      <td>1</td>\n",
       "      <td>8</td>\n",
       "      <td>3.0</td>\n",
       "      <td>1.0</td>\n",
       "      <td>6.0</td>\n",
       "      <td>97.0</td>\n",
       "      <td>2.984200</td>\n",
       "      <td>37.0</td>\n",
       "      <td>LOS ANGELES</td>\n",
       "      <td>30.0</td>\n",
       "    </tr>\n",
       "    <tr>\n",
       "      <th>243</th>\n",
       "      <td>1038428</td>\n",
       "      <td>1</td>\n",
       "      <td>9</td>\n",
       "      <td>3.0</td>\n",
       "      <td>1.0</td>\n",
       "      <td>6.0</td>\n",
       "      <td>97.0</td>\n",
       "      <td>3.359935</td>\n",
       "      <td>37.0</td>\n",
       "      <td>LOS ANGELES</td>\n",
       "      <td>30.0</td>\n",
       "    </tr>\n",
       "    <tr>\n",
       "      <th>266</th>\n",
       "      <td>1038428</td>\n",
       "      <td>4</td>\n",
       "      <td>8</td>\n",
       "      <td>3.0</td>\n",
       "      <td>1.0</td>\n",
       "      <td>6.0</td>\n",
       "      <td>97.0</td>\n",
       "      <td>2.984200</td>\n",
       "      <td>37.0</td>\n",
       "      <td>LOS ANGELES</td>\n",
       "      <td>30.0</td>\n",
       "    </tr>\n",
       "    <tr>\n",
       "      <th>267</th>\n",
       "      <td>1038428</td>\n",
       "      <td>4</td>\n",
       "      <td>9</td>\n",
       "      <td>3.0</td>\n",
       "      <td>1.0</td>\n",
       "      <td>6.0</td>\n",
       "      <td>97.0</td>\n",
       "      <td>3.359935</td>\n",
       "      <td>37.0</td>\n",
       "      <td>LOS ANGELES</td>\n",
       "      <td>30.0</td>\n",
       "    </tr>\n",
       "    <tr>\n",
       "      <th>1259</th>\n",
       "      <td>1061035</td>\n",
       "      <td>1</td>\n",
       "      <td>2</td>\n",
       "      <td>1.0</td>\n",
       "      <td>0.0</td>\n",
       "      <td>5.0</td>\n",
       "      <td>1.0</td>\n",
       "      <td>6.571637</td>\n",
       "      <td>37.0</td>\n",
       "      <td>LOS ANGELES</td>\n",
       "      <td>30.0</td>\n",
       "    </tr>\n",
       "  </tbody>\n",
       "</table>\n",
       "</div>"
      ],
      "text/plain": [
       "       sampno  perno  plano  tottr  hhmem  mode  vehno  trip_distance_miles  \\\n",
       "242   1038428      1      8    3.0    1.0   6.0   97.0             2.984200   \n",
       "243   1038428      1      9    3.0    1.0   6.0   97.0             3.359935   \n",
       "266   1038428      4      8    3.0    1.0   6.0   97.0             2.984200   \n",
       "267   1038428      4      9    3.0    1.0   6.0   97.0             3.359935   \n",
       "1259  1061035      1      2    1.0    0.0   5.0    1.0             6.571637   \n",
       "\n",
       "      home_county_id    home_city  mpo_sample  \n",
       "242             37.0  LOS ANGELES        30.0  \n",
       "243             37.0  LOS ANGELES        30.0  \n",
       "266             37.0  LOS ANGELES        30.0  \n",
       "267             37.0  LOS ANGELES        30.0  \n",
       "1259            37.0  LOS ANGELES        30.0  "
      ]
     },
     "execution_count": 73,
     "metadata": {},
     "output_type": "execute_result"
    }
   ],
   "source": [
    "# Use a conditional statement within brackets to subset\n",
    "\n",
    "places_subset[places_subset.home_city == 'LOS ANGELES'].head()\n",
    "\n",
    "# places_subset[places_subset['mode'] == 6.0].head()"
   ]
  },
  {
   "cell_type": "code",
   "execution_count": 75,
   "metadata": {
    "collapsed": true
   },
   "outputs": [],
   "source": [
    "# ON YOUR OWN:\n",
    "# Create two DataFrames, one for Berkeley, and one for Oakland.\n",
    "# Use the variables names berkeley and oakland.\n",
    "\n",
    "berkeley = places_subset[places_subset.home_city == 'BERKELEY']\n",
    "oakland = places_subset[places_subset.home_city == 'OAKLAND']"
   ]
  },
  {
   "cell_type": "code",
   "execution_count": 76,
   "metadata": {
    "collapsed": false
   },
   "outputs": [
    {
     "name": "stdout",
     "output_type": "stream",
     "text": [
      "(1376, 2397)\n"
     ]
    }
   ],
   "source": [
    "print(len(berkeley), len(oakland))"
   ]
  },
  {
   "cell_type": "code",
   "execution_count": 82,
   "metadata": {
    "collapsed": false
   },
   "outputs": [
    {
     "data": {
      "text/html": [
       "<div>\n",
       "<table border=\"1\" class=\"dataframe\">\n",
       "  <thead>\n",
       "    <tr style=\"text-align: right;\">\n",
       "      <th></th>\n",
       "      <th>sampno</th>\n",
       "      <th>perno</th>\n",
       "      <th>plano</th>\n",
       "      <th>tottr</th>\n",
       "      <th>hhmem</th>\n",
       "      <th>mode</th>\n",
       "      <th>vehno</th>\n",
       "      <th>trip_distance_miles</th>\n",
       "      <th>home_county_id</th>\n",
       "      <th>mpo_sample</th>\n",
       "    </tr>\n",
       "  </thead>\n",
       "  <tbody>\n",
       "    <tr>\n",
       "      <th>count</th>\n",
       "      <td>2.397000e+03</td>\n",
       "      <td>2397.000000</td>\n",
       "      <td>2397.000000</td>\n",
       "      <td>2397.000000</td>\n",
       "      <td>2397.000000</td>\n",
       "      <td>2397.000000</td>\n",
       "      <td>2397.000000</td>\n",
       "      <td>2397.000000</td>\n",
       "      <td>2397.0</td>\n",
       "      <td>2397.0</td>\n",
       "    </tr>\n",
       "    <tr>\n",
       "      <th>mean</th>\n",
       "      <td>3.023083e+06</td>\n",
       "      <td>1.896537</td>\n",
       "      <td>4.761786</td>\n",
       "      <td>1.838965</td>\n",
       "      <td>0.605757</td>\n",
       "      <td>5.322069</td>\n",
       "      <td>13.736754</td>\n",
       "      <td>7.234705</td>\n",
       "      <td>1.0</td>\n",
       "      <td>22.0</td>\n",
       "    </tr>\n",
       "    <tr>\n",
       "      <th>std</th>\n",
       "      <td>2.112287e+06</td>\n",
       "      <td>1.140091</td>\n",
       "      <td>2.769451</td>\n",
       "      <td>1.036045</td>\n",
       "      <td>0.871655</td>\n",
       "      <td>0.559246</td>\n",
       "      <td>32.159990</td>\n",
       "      <td>18.264537</td>\n",
       "      <td>0.0</td>\n",
       "      <td>0.0</td>\n",
       "    </tr>\n",
       "    <tr>\n",
       "      <th>min</th>\n",
       "      <td>1.045607e+06</td>\n",
       "      <td>1.000000</td>\n",
       "      <td>2.000000</td>\n",
       "      <td>1.000000</td>\n",
       "      <td>0.000000</td>\n",
       "      <td>5.000000</td>\n",
       "      <td>1.000000</td>\n",
       "      <td>0.000000</td>\n",
       "      <td>1.0</td>\n",
       "      <td>22.0</td>\n",
       "    </tr>\n",
       "    <tr>\n",
       "      <th>25%</th>\n",
       "      <td>1.478684e+06</td>\n",
       "      <td>1.000000</td>\n",
       "      <td>3.000000</td>\n",
       "      <td>1.000000</td>\n",
       "      <td>0.000000</td>\n",
       "      <td>5.000000</td>\n",
       "      <td>1.000000</td>\n",
       "      <td>1.284838</td>\n",
       "      <td>1.0</td>\n",
       "      <td>22.0</td>\n",
       "    </tr>\n",
       "    <tr>\n",
       "      <th>50%</th>\n",
       "      <td>1.976318e+06</td>\n",
       "      <td>2.000000</td>\n",
       "      <td>4.000000</td>\n",
       "      <td>2.000000</td>\n",
       "      <td>0.000000</td>\n",
       "      <td>5.000000</td>\n",
       "      <td>1.000000</td>\n",
       "      <td>3.240128</td>\n",
       "      <td>1.0</td>\n",
       "      <td>22.0</td>\n",
       "    </tr>\n",
       "    <tr>\n",
       "      <th>75%</th>\n",
       "      <td>3.007038e+06</td>\n",
       "      <td>2.000000</td>\n",
       "      <td>6.000000</td>\n",
       "      <td>2.000000</td>\n",
       "      <td>1.000000</td>\n",
       "      <td>6.000000</td>\n",
       "      <td>2.000000</td>\n",
       "      <td>7.389573</td>\n",
       "      <td>1.0</td>\n",
       "      <td>22.0</td>\n",
       "    </tr>\n",
       "    <tr>\n",
       "      <th>max</th>\n",
       "      <td>7.210379e+06</td>\n",
       "      <td>8.000000</td>\n",
       "      <td>18.000000</td>\n",
       "      <td>8.000000</td>\n",
       "      <td>4.000000</td>\n",
       "      <td>10.000000</td>\n",
       "      <td>97.000000</td>\n",
       "      <td>356.622087</td>\n",
       "      <td>1.0</td>\n",
       "      <td>22.0</td>\n",
       "    </tr>\n",
       "  </tbody>\n",
       "</table>\n",
       "</div>"
      ],
      "text/plain": [
       "             sampno        perno        plano        tottr        hhmem  \\\n",
       "count  2.397000e+03  2397.000000  2397.000000  2397.000000  2397.000000   \n",
       "mean   3.023083e+06     1.896537     4.761786     1.838965     0.605757   \n",
       "std    2.112287e+06     1.140091     2.769451     1.036045     0.871655   \n",
       "min    1.045607e+06     1.000000     2.000000     1.000000     0.000000   \n",
       "25%    1.478684e+06     1.000000     3.000000     1.000000     0.000000   \n",
       "50%    1.976318e+06     2.000000     4.000000     2.000000     0.000000   \n",
       "75%    3.007038e+06     2.000000     6.000000     2.000000     1.000000   \n",
       "max    7.210379e+06     8.000000    18.000000     8.000000     4.000000   \n",
       "\n",
       "              mode        vehno  trip_distance_miles  home_county_id  \\\n",
       "count  2397.000000  2397.000000          2397.000000          2397.0   \n",
       "mean      5.322069    13.736754             7.234705             1.0   \n",
       "std       0.559246    32.159990            18.264537             0.0   \n",
       "min       5.000000     1.000000             0.000000             1.0   \n",
       "25%       5.000000     1.000000             1.284838             1.0   \n",
       "50%       5.000000     1.000000             3.240128             1.0   \n",
       "75%       6.000000     2.000000             7.389573             1.0   \n",
       "max      10.000000    97.000000           356.622087             1.0   \n",
       "\n",
       "       mpo_sample  \n",
       "count      2397.0  \n",
       "mean         22.0  \n",
       "std           0.0  \n",
       "min          22.0  \n",
       "25%          22.0  \n",
       "50%          22.0  \n",
       "75%          22.0  \n",
       "max          22.0  "
      ]
     },
     "execution_count": 82,
     "metadata": {},
     "output_type": "execute_result"
    }
   ],
   "source": [
    "oakland.describe()"
   ]
  },
  {
   "cell_type": "code",
   "execution_count": 83,
   "metadata": {
    "collapsed": false
   },
   "outputs": [
    {
     "data": {
      "text/plain": [
       "7.234705092198568"
      ]
     },
     "execution_count": 83,
     "metadata": {},
     "output_type": "execute_result"
    }
   ],
   "source": [
    "oakland.trip_distance_miles.mean()"
   ]
  },
  {
   "cell_type": "code",
   "execution_count": 84,
   "metadata": {
    "collapsed": false
   },
   "outputs": [
    {
     "data": {
      "text/plain": [
       "6.807609148982564"
      ]
     },
     "execution_count": 84,
     "metadata": {},
     "output_type": "execute_result"
    }
   ],
   "source": [
    "berkeley.trip_distance_miles.mean()"
   ]
  },
  {
   "cell_type": "code",
   "execution_count": 78,
   "metadata": {
    "collapsed": false
   },
   "outputs": [],
   "source": [
    "import scipy"
   ]
  },
  {
   "cell_type": "code",
   "execution_count": 81,
   "metadata": {
    "collapsed": false
   },
   "outputs": [
    {
     "data": {
      "text/plain": [
       "Ttest_indResult(statistic=0.62227516674533823, pvalue=0.53379856993906127)"
      ]
     },
     "execution_count": 81,
     "metadata": {},
     "output_type": "execute_result"
    }
   ],
   "source": [
    "scipy.stats.ttest_ind(a=oakland.trip_distance_miles, b=berkeley.trip_distance_miles)"
   ]
  },
  {
   "cell_type": "code",
   "execution_count": 94,
   "metadata": {
    "collapsed": false
   },
   "outputs": [
    {
     "name": "stdout",
     "output_type": "stream",
     "text": [
      "Mean for SACRAMENTO: 9.96343377423\n",
      "Mean for LOS ANGELES: 8.03185438436\n",
      "t-statistic: 4.43608637271\n",
      "p-value: 9.23392335208e-06\n"
     ]
    }
   ],
   "source": [
    "# We can write a more automated way to test between multiple cities\n",
    "\n",
    "city1 = 'SACRAMENTO'\n",
    "city2 = 'LOS ANGELES'\n",
    "\n",
    "city1_df = places_subset[places_subset.home_city == city1]\n",
    "city2_df = places_subset[places_subset.home_city == city2]\n",
    "\n",
    "dist1 = city1_df.trip_distance_miles\n",
    "dist2 = city2_df.trip_distance_miles\n",
    "\n",
    "ttest_results = scipy.stats.ttest_ind(dist1, dist2)\n",
    "\n",
    "print 'Mean for ' + city1 + ': ' + str(dist1.mean())\n",
    "print 'Mean for ' + city2 + ': ' + str(dist2.mean())\n",
    "\n",
    "print 't-statistic: ' + str(ttest_results[0])\n",
    "print 'p-value: ' + str(ttest_results[1])"
   ]
  },
  {
   "cell_type": "code",
   "execution_count": 98,
   "metadata": {
    "collapsed": true
   },
   "outputs": [],
   "source": [
    "# Or more simply, in a function:\n",
    "\n",
    "def city_ttest(city1, city2, df):\n",
    "    \n",
    "    dist1 = df[df.home_city == city1].trip_distance_miles\n",
    "    dist2 = df[df.home_city == city2].trip_distance_miles\n",
    "    \n",
    "    ttest_results = scipy.stats.ttest_ind(dist1, dist2)\n",
    "\n",
    "    print 'Mean for ' + city1 + ': ' + str(dist1.mean())\n",
    "    print 'Mean for ' + city2 + ': ' + str(dist2.mean())\n",
    "    print 't-statistic: ' + str(ttest_results[0])\n",
    "    print 'p-value: ' + str(ttest_results[1])"
   ]
  },
  {
   "cell_type": "code",
   "execution_count": 99,
   "metadata": {
    "collapsed": false
   },
   "outputs": [
    {
     "name": "stdout",
     "output_type": "stream",
     "text": [
      "Mean for SACRAMENTO: 9.96343377423\n",
      "Mean for DAVIS: 10.3866648246\n",
      "t-statistic: -0.457688918361\n",
      "p-value: 0.647202124896\n"
     ]
    }
   ],
   "source": [
    "city_ttest('SACRAMENTO', 'DAVIS', places_subset)"
   ]
  },
  {
   "cell_type": "code",
   "execution_count": 110,
   "metadata": {
    "collapsed": false
   },
   "outputs": [
    {
     "name": "stdout",
     "output_type": "stream",
     "text": [
      "Mean for SAN FRANCISCO: 6.69139063225\n",
      "Mean for LOS ANGELES: 8.03185438436\n",
      "t-statistic: -4.00272203605\n",
      "p-value: 6.29222110822e-05\n"
     ]
    }
   ],
   "source": [
    "city_ttest('SAN FRANCISCO', 'LOS ANGELES', places_subset)"
   ]
  },
  {
   "cell_type": "code",
   "execution_count": 109,
   "metadata": {
    "collapsed": false
   },
   "outputs": [
    {
     "name": "stdout",
     "output_type": "stream",
     "text": [
      "Mean for BERKELEY: 6.80760914898\n",
      "Mean for WALNUT CREEK: 7.32191689069\n",
      "t-statistic: -0.653490225456\n",
      "p-value: 0.513499323521\n"
     ]
    }
   ],
   "source": [
    "city_ttest('BERKELEY', 'WALNUT CREEK', places_subset)"
   ]
  },
  {
   "cell_type": "markdown",
   "metadata": {
    "collapsed": true
   },
   "source": [
    "# Python \"Control Flow\" or \"Programming Flow\" tools\n",
    "## i.e. \"if\" statements, \"for\" loops, and functions\n",
    "\n",
    "Now we're going to learn some simple tools to help you give Python some more complicated directions about how to run different commands."
   ]
  },
  {
   "cell_type": "markdown",
   "metadata": {},
   "source": [
    "### Loops\n",
    "\n",
    "This is how to tell Python to run something over and over. There are different types of loops but we'll focus on \"for\" loops. A simple structure you can use is:\n",
    "\n",
    "1. For every element...\n",
    "2. In a certain \"iterable\" (e.g. list)...\n",
    "3. Do a certain thing\n",
    "4. Repeat until you've gone through every item in the iterable"
   ]
  },
  {
   "cell_type": "code",
   "execution_count": null,
   "metadata": {
    "collapsed": false
   },
   "outputs": [],
   "source": [
    "# Example: we're going to run through this list below.\n",
    "\n",
    "bart = [\"Berkeley\", \"Ashby\", \"MacArthur\", \"19th Street\", \"12th Street\", \"West Oakland\"]\n",
    "# side note: spaces after commas and single vs double quotes doesn't matter\n",
    "# i.e. ['Berkeley', 'Ashby'] == [\"Berkeley\",\"Ashby\"]"
   ]
  },
  {
   "cell_type": "code",
   "execution_count": null,
   "metadata": {
    "collapsed": false
   },
   "outputs": [],
   "source": [
    "# Here's the simple structure above in python syntax\n",
    "\n",
    "# Steps 1 and 2\n",
    "# syntax is:  for \"x\" in \"y\"\n",
    "# x is an arbitrary name that will refer to the current iteration\n",
    "# y is the list you're iterating on \n",
    "# statements that are within the loop must be indented! Indentation is key to Python syntax\n",
    "\n",
    "for station in bart:\n",
    "    \n",
    "    # Step 3: what you do for each item in the list\n",
    "    # Here we will just print\n",
    "    print(station)\n",
    "    \n",
    "    # Step 4: this structure will automatically repeat! \n",
    "    \n",
    "print('How many times will this print?')"
   ]
  },
  {
   "cell_type": "markdown",
   "metadata": {},
   "source": [
    "Let's break this down. What happened here is:\n",
    "\n",
    "First iteration: \n",
    "* The variable \"station\" is set to the first item in the list \"bart\", which happens to be a string, \"Berkeley\"\n",
    "* Printing \"station\" therefore gives you an output of \"Berkeley\"\n",
    "\n",
    "Second iteration:\n",
    "* The variable \"station\" now equals the second item in the list, the string \"Ashby\", so printing \"station\" now outputs \"Ashby\"\n",
    "\n",
    "And this continues until you hit West Oakland, at which the loop sees no more items and the loop ends.\n",
    "\n",
    "The last line, which is not indented, is not part of the for loop, so it gets printed only once."
   ]
  },
  {
   "cell_type": "code",
   "execution_count": null,
   "metadata": {
    "collapsed": false
   },
   "outputs": [],
   "source": [
    "# the variable \"station\" above is arbitrary; you can change it to whatever you want as long as it is consistent within the loop\n",
    "# you'll often see people use \"i\" as convention\n",
    "\n",
    "for i in bart:\n",
    "    print(i)"
   ]
  },
  {
   "cell_type": "code",
   "execution_count": null,
   "metadata": {
    "collapsed": false
   },
   "outputs": [],
   "source": [
    "# You can set more complicated commands as well.\n",
    "\n",
    "for i in bart:\n",
    "    print(\"Now I am at\", i, \"Station\")"
   ]
  },
  {
   "cell_type": "code",
   "execution_count": null,
   "metadata": {
    "collapsed": false
   },
   "outputs": [],
   "source": [
    "# You can also set multiple variables to change within loops\n",
    "\n",
    "for i in bart:\n",
    "    before = \"Now I am at \"\n",
    "    after = \" Station\"\n",
    "    print(before + i + after)"
   ]
  },
  {
   "cell_type": "code",
   "execution_count": null,
   "metadata": {
    "collapsed": false
   },
   "outputs": [],
   "source": [
    "# Notice the difference between using , and + in the two cells above\n",
    "# , puts spaces between each piece (or \"argument\"), and can display many different data types side by side\n",
    "# + *concatenates* strings, as we've seen before. This means that (1) there will be no extra space and\n",
    "# (2) all the components of the concatenation must be strings.\n",
    "# It is possible to convert one data type to another using str(), float(), int()\n",
    "\n",
    "print('I am at station #', 2, 'now')\n",
    "print() # blank line\n",
    "print('I am at station #' + str(2) + 'now')\n",
    "print('I am at station #', 2, ' now', sep = '') # we can define sep (separator) as an empty string to remove the spaces\n",
    "print('I am at station #' + 2 + 'now') # throws an error"
   ]
  },
  {
   "cell_type": "markdown",
   "metadata": {},
   "source": [
    "### if statements\n",
    "\n",
    "You can also have Python run commands based on conditions: do x if y. "
   ]
  },
  {
   "cell_type": "code",
   "execution_count": null,
   "metadata": {
    "collapsed": false
   },
   "outputs": [],
   "source": [
    "# Simple structure:\n",
    "\n",
    "warriors_wins = 70\n",
    "bulls_record = 72\n",
    "\n",
    "if warriors_wins < bulls_record:\n",
    "    print(\"Warriors did not break the record :(\")"
   ]
  },
  {
   "cell_type": "code",
   "execution_count": null,
   "metadata": {
    "collapsed": false
   },
   "outputs": [],
   "source": [
    "# What happens if the condition is not met here?\n",
    "\n",
    "warriors_wins = 73\n",
    "\n",
    "if warriors_wins < bulls_record:\n",
    "    print(\"Warriors did not break the record :(\")"
   ]
  },
  {
   "cell_type": "code",
   "execution_count": null,
   "metadata": {
    "collapsed": false
   },
   "outputs": [],
   "source": [
    "# if can set \"else\" statements for when the condition is not met\n",
    "\n",
    "if warriors_wins < bulls_record:\n",
    "    print(\"Warriors did not break the record :(\")\n",
    "else:\n",
    "    print(\"Warriors tied or broke the record!\")"
   ]
  },
  {
   "cell_type": "code",
   "execution_count": null,
   "metadata": {
    "collapsed": false
   },
   "outputs": [],
   "source": [
    "# you can set more than 2 conditions using \"elif\" which is short for \"else if\"\n",
    "\n",
    "warriors_wins = 73\n",
    "\n",
    "if warriors_wins < bulls_record:\n",
    "    print(\"Warriors did not break the record :(\")\n",
    "elif warriors_wins == bulls_record:\n",
    "    print(\"Warriors tied the record.\")\n",
    "else:\n",
    "    print(\"Warriors broke the record!\")"
   ]
  },
  {
   "cell_type": "markdown",
   "metadata": {},
   "source": [
    "### Functions\n",
    "\n",
    "So you've written a useful piece of code, and you're using it multiple times but finding it tedious to keep copying and pasting it. This is where **functions** come in. A function is basically a chunk of code that is saved under a name, and takes one or more inputs that are used in the chunk of code. Here's an example."
   ]
  },
  {
   "cell_type": "code",
   "execution_count": null,
   "metadata": {
    "collapsed": true
   },
   "outputs": [],
   "source": [
    "# Create a function to save the warriors code above\n",
    "\n",
    "# \"def\" creates a function\n",
    "# next is the function name: I call mine \"record check\"\n",
    "# in parentheses are the \"arguments\" - what will the function take in and use?\n",
    "# I have one argument, which will be a number of wins.\n",
    "\n",
    "def record_check(number_wins):\n",
    "    \n",
    "    bulls_record = 72\n",
    "    \n",
    "    # here I copy my code from above, but I changed \"warriors_wins\" to \"number_wins\"\n",
    "    # We are also now using \"return\" instead of print()\n",
    "    # Functions can *return* one or more values, which you can then use however you want\n",
    "    if number_wins < bulls_record:\n",
    "        return \"Warriors did not break the record :(\"\n",
    "    elif number_wins == bulls_record:\n",
    "        return \"Warriors tied the record.\"\n",
    "    else:\n",
    "        return \"Warriors broke the record!\"\n",
    "# when I run this cell, the code above will be saved or \"defined\" as the function \"record_check\""
   ]
  },
  {
   "cell_type": "code",
   "execution_count": null,
   "metadata": {
    "collapsed": false
   },
   "outputs": [],
   "source": [
    "# now we can run the function with various numbers \n",
    "\n",
    "print(record_check(70))\n",
    "print(record_check(72))\n",
    "\n",
    "# We don't use the print() command here so you can see the difference between print()ing a string and \n",
    "# displaying it as output\n",
    "record_check(74)"
   ]
  },
  {
   "cell_type": "code",
   "execution_count": null,
   "metadata": {
    "collapsed": false
   },
   "outputs": [],
   "source": [
    "# run the function in a loop\n",
    "\n",
    "win_list = [i for i in range(69, 76)]\n",
    "# This is called a *list comprehension*. Super powerful. We don't have time to get into it,\n",
    "# but definitely look up Python comprehensions when you get a chance.\n",
    "\n",
    "print(win_list)\n",
    "# Note that range(69, 76) includes 69 but not 76!\n",
    "# Think: \"start at 69 and end right before 76\"\n",
    "\n",
    "for i in win_list: # can also say simply \"for i in range(69, 76):\"\n",
    "    print('With', i, 'wins, the', record_check(i))\n",
    "    \n",
    "# Consider how making our function return, rather than print, its strings enables us to\n",
    "# combine those strings in a novel fashion within the for loop."
   ]
  },
  {
   "cell_type": "markdown",
   "metadata": {},
   "source": [
    "## Micro-Project\n",
    "\n",
    "This should take five minutes or so:\n",
    "\n",
    "* Create a function\n",
    "  * It should check whether the number it takes as an argument equals 30\n",
    "  * If it does not equal 30, it should print \"This is not Steph Curry's number\"\n",
    "  * If it does equal 30, it should print \"This is Steph Curry's number\"\n",
    "* Create a list of the numbers 23, 11, 30, 12, and 40\n",
    "* Create a for loop with this list. Each iteration should run your new function using a number in this new list.\n"
   ]
  },
  {
   "cell_type": "code",
   "execution_count": null,
   "metadata": {
    "collapsed": false
   },
   "outputs": [],
   "source": [
    "# Write your function here (change names as desired!):\n",
    "\n",
    "def function_name(argument):\n",
    "    # content of function here\n",
    "    \n",
    "    \n",
    "# Create your list here:\n",
    "\n",
    "\n",
    "# Write your loop here:\n"
   ]
  },
  {
   "cell_type": "markdown",
   "metadata": {},
   "source": [
    "# Let's build a geocoder!\n",
    "\n",
    "Now that we've covered the basics of programming in Python, we're going to jump into a more complex, real-world example. Step by step, we will assemble a program that will:\n",
    "1. read in a list of addresses from a CSV file,\n",
    "2. clean up the data formatting,\n",
    "3. geocode the addresses, and\n",
    "4. export the geocoded data to a new CSV.\n",
    "\n",
    "A script like this, which improves on ArcGIS's temperamental geocoding operations, is exactly the kind of tool that a planner might create as part of a typical workflow. In other words, we've reached the realm of the actually useful."
   ]
  },
  {
   "cell_type": "code",
   "execution_count": null,
   "metadata": {
    "collapsed": false
   },
   "outputs": [],
   "source": [
    "# We import the packages we need for this task. If you followed the instructions \n",
    "# on installing Python and making sure everything is set up correctly, these commands\n",
    "# should look familiar. If not, the syntax is simple:\n",
    "\n",
    "import pandas as pd\n",
    "from geopy.geocoders import GoogleV3"
   ]
  },
  {
   "cell_type": "code",
   "execution_count": null,
   "metadata": {
    "collapsed": false
   },
   "outputs": [],
   "source": [
    "# For our geocoding demo, we'll use a table of Oakland libraries I found\n",
    "# through Code for Oakland: http://codeforoakland.org/data-sets/\n",
    "\n",
    "# Reading a CSV into a pandas DataFrame is easy:\n",
    "libraries = pd.read_csv('LibraryBranches.csv')\n",
    "\n",
    "# Let's look at the table\n",
    "libraries"
   ]
  },
  {
   "cell_type": "code",
   "execution_count": null,
   "metadata": {
    "collapsed": false
   },
   "outputs": [],
   "source": [
    "# When you have a large DataFrame, it can be more convenient to see only the first few rows:\n",
    "libraries.head() # defaults to 5 rows, but you can specify the number of rows"
   ]
  },
  {
   "cell_type": "code",
   "execution_count": null,
   "metadata": {
    "collapsed": false
   },
   "outputs": [],
   "source": [
    "# Unlike Excel, you can't directly look at and modify cells in a table.\n",
    "# Instead, you access data by specifying its *location.* There are two basic forms\n",
    "# of location syntax, .loc[] and .iloc[] - note the square brackets, not parentheses.\n",
    "\n",
    "# .loc[x, y]: look up the data at the location with row index named x and column named y\n",
    "print(libraries.loc[0,'PHONE'])\n",
    "\n",
    "# .iloc[m, n]: look up the data in the mth row and nth column (first column == 0)\n",
    "print(libraries.iloc[2, 2])"
   ]
  },
  {
   "cell_type": "markdown",
   "metadata": {},
   "source": [
    "## Important concept: _objects_\n",
    "\n",
    "It is common in Python and other programming languages to store data in flexible relational structures known as **objects**. Objects have **attributes**: for example, a `Person` object might have `height` and `age` numeric attributes, plus a `name` string attribute.\n",
    "\n",
    "If an object has a function as an attribute, that function is called a **method** of the object. So our `Person` object can have a `get_older()` method that increases the Person's `height` attribute. (Note that like other, stand-alone functions, this method includes a set of parentheses.) In the cell above, `head()` is a method of the `libraries` object.\n",
    "\n",
    "An object's methods and other attributes are accessed via **dot notation**: if `drew` is a `Person` object, `drew.height` will return `drew`'s `height` attribute. `drew.get_older()` will increase `drew`'s `age`.\n",
    "\n",
    "We're not going to look at how to define our own objects (known also as *classes*) today, but it's a good skill to pick up, and tutorials are out there. https://jeffknupp.com/blog/2014/06/18/improve-your-python-python-classes-and-object-oriented-programming/\n",
    "\n",
    "Right now, we're about to interact with three useful objects that are already defined in the modules we've loaded: `DataFrame`, from `pandas`, and `Geocoder` and `Location` from `geopy.geocoders`. Let's see how we can combine some `DataFrame` attributes and methods to quickly modify our `libraries` object."
   ]
  },
  {
   "cell_type": "code",
   "execution_count": null,
   "metadata": {
    "collapsed": false
   },
   "outputs": [],
   "source": [
    "# These ALL-CAPS column names are irritating. Let's change them to lowercase:\n",
    "\n",
    "libraries.columns = libraries.columns.str.lower()\n",
    "libraries.head()\n",
    "\n",
    "# What happened here?\n",
    "# libraries.columns is an attribute of libraries (a pandas DataFrame object).\n",
    "# The columns object is itself an Index object, containing the names of each column.\n",
    "# libraries.columns.str allows us to access and modify each string in libraries.columns -\n",
    "# in this case, we use the lower() method to convert each string to lowercase.\n",
    "# So we are telling Python to overwrite libraries.columns (the set of column names)\n",
    "# with a version of libraries.columns converted to lowercase."
   ]
  },
  {
   "cell_type": "code",
   "execution_count": null,
   "metadata": {
    "collapsed": false
   },
   "outputs": [],
   "source": [
    "# Let's look at just one column\n",
    "\n",
    "libraries['name']\n",
    "\n",
    "# libraries.name (dot notation) is equivalent to libraries['name'] (bracket notation).\n",
    "# However, when you want to create a new column, you must use bracket notation."
   ]
  },
  {
   "cell_type": "code",
   "execution_count": null,
   "metadata": {
    "collapsed": false
   },
   "outputs": [],
   "source": [
    "# We need to clean up our data in preparation for geocoding.\n",
    "# There are some extra dashes in the address field, and the city and state aren't specified.\n",
    "# Pandas provides some powerful methods for quickly modifying many pieces of data:\n",
    "\n",
    "libraries['full_address'] = libraries.address.str.replace('- ', '') + ', Oakland, CA'\n",
    "libraries.head()\n",
    "\n",
    "# What happened here?\n",
    "# We looked at libraries.address (one column), used str to access that column's\n",
    "# contents as strings, then used the replace() string method to remove dashes.\n",
    "# Then we used the + operator to concatenate city and state to each address.\n",
    "# Finally, we used bracket notation to create a new full_address column to store\n",
    "# the results of this operation."
   ]
  },
  {
   "cell_type": "code",
   "execution_count": null,
   "metadata": {
    "collapsed": false
   },
   "outputs": [],
   "source": [
    "# Now that we've properly formatted our addresses, it's time to set up the Geocoder.\n",
    "\n",
    "g = GoogleV3()\n",
    "\n",
    "# g is a GoogleV3 Geocoder object. This object has multiple methods, or built-in functions. \n",
    "# We'll be using the geocode() method, which takes a street address and returns a lat/long pair\n",
    "# stored as a Location object. (Objects are just organized groups of data.)\n",
    "# There is also a reverse() method that takes a lat/long pair and returns a street address.\n",
    "# More info: https://geopy.readthedocs.org/en/1.11.0/#geopy.geocoders.GoogleV3\n",
    "# and https://developers.google.com/maps/documentation/geocoding/intro\n",
    "# The Google Maps Geocoding API has a limit of 2500 addresses per 24-hour period."
   ]
  },
  {
   "cell_type": "code",
   "execution_count": null,
   "metadata": {
    "collapsed": false
   },
   "outputs": [],
   "source": [
    "# Let's see the Geocoder in action. \n",
    "home = g.geocode('1001 Chanin Brkley')\n",
    "home\n",
    "\n",
    "# Notice that the Google Maps Geocoding API is quite flexible - it was able\n",
    "# to identify Channing Way from \"Chanin\" and Berkeley, CA from \"Brkley\"!"
   ]
  },
  {
   "cell_type": "code",
   "execution_count": null,
   "metadata": {
    "collapsed": false
   },
   "outputs": [],
   "source": [
    "# So, when we pass an address string to the Geocoder's geocode() method, the Geocoder\n",
    "# looks up that address via the Google Maps Geocoding API and returns the result as a Location object.\n",
    "# Now we work our way through the various components of this Location object.\n",
    "print(home[0]) # matched address - a string\n",
    "print(home[1]) # lat/long pair - a tuple\n",
    "print(home[1][0]) # latitude - a float\n",
    "print(home[1][1]) # longitude - a float"
   ]
  },
  {
   "cell_type": "code",
   "execution_count": null,
   "metadata": {
    "collapsed": true
   },
   "outputs": [],
   "source": [
    "# OK! So we know how to get what we need out of the Location object that the Geocoder returns.\n",
    "# We're now going to use a powerful feature of pandas - \"apply,\" which applies a function to each\n",
    "# item in a Series. \n",
    "\n",
    "# First, we need to define a function that takes an address string as a parameter,\n",
    "# passes it to our Geocoder object, and returns the lat/long pair.\n",
    "\n",
    "def getLatLong(address):\n",
    "    result = g.geocode(address)\n",
    "    return result[1]"
   ]
  },
  {
   "cell_type": "code",
   "execution_count": null,
   "metadata": {
    "collapsed": false
   },
   "outputs": [],
   "source": [
    "# Now we can *apply* the function we defined to each address in the full_address column.\n",
    "# As before, we use bracket notation to store the results of the apply operation into\n",
    "# a new latlong column.\n",
    "\n",
    "libraries['latlong'] = libraries.full_address.apply(getLatLong)\n",
    "libraries.head()"
   ]
  },
  {
   "cell_type": "code",
   "execution_count": null,
   "metadata": {
    "collapsed": false
   },
   "outputs": [],
   "source": [
    "# It is a good idea to keep the lat/long pair itself. This is a common format\n",
    "# that is used in web mapping (e.g. Leaflet). However, for some applications\n",
    "# (e.g. ArcGIS, CartoDB), we will need separate latitude and longitude fields.\n",
    "# Let's create those now, using a for loop.\n",
    "\n",
    "for i in libraries.index:\n",
    "    libraries.loc[i, 'latitude'] = libraries.loc[i, 'latlong'][0]\n",
    "    libraries.loc[i, 'longitude'] = libraries.loc[i, 'latlong'][1]\n",
    "\n",
    "libraries.head()\n",
    "\n",
    "# What happened here?\n",
    "# libraries.index, an attribute of libraries, stores the set of index values associated with\n",
    "# each row in the libraries DataFrame. 'for i in libraries.index' tells the variable i to\n",
    "# iterate over each value in libraries.index, allowing us to access and modify each row in libraries.\n",
    "# So, for each row in libraries, this code assigns the 0th element of the tuple in latlong\n",
    "# to a new latitude column, and the 1st element of the latlong tuple to a new longitude column.\n",
    "# Note, as before, how we use indentation to indicate which statements are part of the for loop."
   ]
  },
  {
   "cell_type": "code",
   "execution_count": null,
   "metadata": {
    "collapsed": false
   },
   "outputs": [],
   "source": [
    "# Almost there now. Before we export our data to a CSV file, let's remove\n",
    "# some columns we don't need.\n",
    "\n",
    "libraries.drop(['objectid', 'address'], inplace = True, axis = 1)\n",
    "libraries.head()\n",
    "\n",
    "# What happened here?\n",
    "# The drop() method removes data from a DataFrame. Its first argument is a list\n",
    "# of entries to remove. The inplace keyword specifies that the drop operation\n",
    "# should modify libraries directly. (By default, inplace = False - you can always\n",
    "# use libraries_new = libraries.drop(xyz, inplace = False) to save the modified\n",
    "# DataFrame to libraries_new.) Axis is either 0 for rows or 1 for columns.\n",
    "# In this case, we set it = 1 to drop columns, not rows."
   ]
  },
  {
   "cell_type": "code",
   "execution_count": null,
   "metadata": {
    "collapsed": true
   },
   "outputs": [],
   "source": [
    "# Time to save our data to disk. pandas DataFrames have a very convenient\n",
    "# to_csv() method. The index = False argument tells pandas not to write the index\n",
    "# as its own column, again eliminating unnecessary data.\n",
    "\n",
    "libraries.to_csv('LibraryBranchesGeocoded.csv', index = False)"
   ]
  },
  {
   "cell_type": "code",
   "execution_count": null,
   "metadata": {
    "collapsed": false
   },
   "outputs": [],
   "source": [
    "# Finally, let's collect all the pieces of the puzzle into a single cell.\n",
    "# I have added some try/except syntax to handle situations in which an address string\n",
    "# is totally invalid. Google will try hard to match each address, but if it can't, \n",
    "# the Geocoder will return None instead of a Location object.\n",
    "# I also added three print() statements to inform the user about what the program\n",
    "# has done. See if you can figure out how each statement uses attributes and methods!\n",
    "\n",
    "# import the needed packages\n",
    "import pandas as pd\n",
    "from geopy.geocoders import GoogleV3\n",
    "\n",
    "# read the CSV into a pandas DataFrame\n",
    "libraries = pd.read_csv('LibraryBranches.csv')\n",
    "print('Read', len(libraries), 'records')\n",
    "\n",
    "# clean up the column names and address field\n",
    "libraries.columns = libraries.columns.str.lower()\n",
    "libraries['full_address'] = libraries.address.str.replace('- ', '') + ', Oakland, CA'\n",
    "\n",
    "# in case you want to see how the program handles junk data, uncomment the next line\n",
    "# libraries.loc[0, 'full_address'] = 'dkjfbga;knga;sd'\n",
    "\n",
    "# create a geopy Geocoder\n",
    "g = GoogleV3()\n",
    "\n",
    "# define helper function\n",
    "def getLatLong(address):\n",
    "    result = g.geocode(address)\n",
    "    try:\n",
    "        return result[1]\n",
    "    except:\n",
    "        return None\n",
    "\n",
    "# geocode the addresses\n",
    "libraries['latlong'] = libraries.full_address.apply(getLatLong)\n",
    "print('Geocoded', sum(libraries.latlong.notnull()), 'addresses')\n",
    "\n",
    "# extract latitude and longitude\n",
    "for i in libraries.index:\n",
    "    try:\n",
    "        libraries.loc[i, 'latitude'] = libraries.loc[i, 'latlong'][0]\n",
    "        libraries.loc[i, 'longitude'] = libraries.loc[i, 'latlong'][1]\n",
    "    except:\n",
    "        pass\n",
    "\n",
    "# drop unnecessary columns\n",
    "libraries.drop(['objectid', 'address'], inplace = True, axis = 1)\n",
    "\n",
    "# export the DataFrame to a new CSV file\n",
    "libraries.to_csv('LibraryBranchesGeocoded.csv', index = False)\n",
    "print('Exported', len(libraries), 'records')\n",
    "\n",
    "# Not bad for 25 lines of code."
   ]
  }
 ],
 "metadata": {
  "kernelspec": {
   "display_name": "Python 2",
   "language": "python",
   "name": "python2"
  },
  "language_info": {
   "codemirror_mode": {
    "name": "ipython",
    "version": 2
   },
   "file_extension": ".py",
   "mimetype": "text/x-python",
   "name": "python",
   "nbconvert_exporter": "python",
   "pygments_lexer": "ipython2",
   "version": "2.7.12"
  }
 },
 "nbformat": 4,
 "nbformat_minor": 0
}
